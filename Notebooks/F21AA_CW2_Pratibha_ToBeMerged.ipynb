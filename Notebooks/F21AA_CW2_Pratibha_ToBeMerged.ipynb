{
  "cells": [
    {
      "cell_type": "markdown",
      "metadata": {
        "id": "ZL1TFdO7Wxh_"
      },
      "source": [
        "## EDA\n"
      ]
    },
    {
      "cell_type": "markdown",
      "metadata": {
        "id": "GootH4JXW5GL"
      },
      "source": [
        "#### Frequency of Reviews By Rating\n"
      ]
    },
    {
      "cell_type": "code",
      "execution_count": null,
      "metadata": {
        "colab": {
          "base_uri": "https://localhost:8080/",
          "height": 598
        },
        "id": "3yG_3dddVKog",
        "outputId": "d264fc71-db35-43d8-dc9e-845a2cdca362"
      },
      "outputs": [
        {
          "name": "stderr",
          "output_type": "stream",
          "text": [
            "<ipython-input-9-be9f79fed309>:14: FutureWarning: \n",
            "\n",
            "Passing `palette` without assigning `hue` is deprecated and will be removed in v0.14.0. Assign the `x` variable to `hue` and set `legend=False` for the same effect.\n",
            "\n",
            "  ax = sns.countplot(x='Score', data=train_data, palette=palette)\n"
          ]
        },
        {
          "data": {
            "image/png": "[encoded data removed]",
            "text/plain": [
              "<Figure size 500x500 with 1 Axes>"
            ]
          },
          "metadata": {},
          "output_type": "display_data"
        }
      ],
      "source": [
        "import pandas as pd\n",
        "import matplotlib.pyplot as plt\n",
        "import seaborn as sns\n",
        "\n",
        "train_data = pd.read_csv(\"train.csv\")\n",
        "test_data = pd.read_csv(\"test.csv\")\n",
        "\n",
        "# Visualize the distribution of ratings\n",
        "plt.figure(figsize=(5, 5))\n",
        "# Define a pastel palette that increases in hue from 1 to 5\n",
        "palette = sns.color_palette(\"pastel\", n_colors=5)\n",
        "\n",
        "# Plot the count plot with the specified palette\n",
        "ax = sns.countplot(x='Score', data=train_data, palette=palette)\n",
        "plt.title('Frequency of Reviews By Rating')\n",
        "plt.xlabel('Rating')\n",
        "plt.ylabel('Count')\n",
        "\n",
        "# Get the current plot axes\n",
        "ax = plt.gca()\n",
        "\n",
        "# Loop through each patch (bar in the barplot) to get its position and height and put the text (count)\n",
        "for p in ax.patches:\n",
        "    ax.text(p.get_x() + p.get_width() / 2., p.get_height(), '%d' % int(p.get_height()),\n",
        "            fontsize=8, color='black', ha='center', va='bottom')\n",
        "\n",
        "plt.show()"
      ]
    },
    {
      "cell_type": "markdown",
      "metadata": {
        "id": "Kkm570-mZEUJ"
      },
      "source": [
        "#### Exploring the dataset\n"
      ]
    },
    {
      "cell_type": "code",
      "execution_count": null,
      "metadata": {
        "colab": {
          "base_uri": "https://localhost:8080/"
        },
        "id": "jfwYpSEbZZj4",
        "outputId": "03482d95-4d15-41bb-a95f-26197401b56c"
      },
      "outputs": [
        {
          "name": "stdout",
          "output_type": "stream",
          "text": [
            "   Score                                               Text\n",
            "0      5  I received this product early from the seller!...\n",
            "1      5  *****<br />Numi's Collection Assortment Melang...\n",
            "2      5  I was very careful not to overcook this pasta,...\n",
            "3      5  Buying this multi-pack I was misled by the pic...\n",
            "4      5  These bars are so good! I loved them warmed up...\n"
          ]
        }
      ],
      "source": [
        "print(train_data.head())"
      ]
    },
    {
      "cell_type": "code",
      "execution_count": null,
      "metadata": {
        "colab": {
          "base_uri": "https://localhost:8080/"
        },
        "id": "DyGpbaNjZhAq",
        "outputId": "84c522f4-873d-4a63-e68d-ced3887dccbc"
      },
      "outputs": [
        {
          "name": "stdout",
          "output_type": "stream",
          "text": [
            "<class 'pandas.core.frame.DataFrame'>\n",
            "RangeIndex: 309131 entries, 0 to 309130\n",
            "Data columns (total 2 columns):\n",
            " #   Column  Non-Null Count   Dtype \n",
            "---  ------  --------------   ----- \n",
            " 0   Score   309131 non-null  int64 \n",
            " 1   Text    309131 non-null  object\n",
            "dtypes: int64(1), object(1)\n",
            "memory usage: 4.7+ MB\n",
            "None\n"
          ]
        }
      ],
      "source": [
        "print(train_data.info())"
      ]
    },
    {
      "cell_type": "code",
      "execution_count": null,
      "metadata": {
        "colab": {
          "base_uri": "https://localhost:8080/"
        },
        "id": "SoYAzmR5ZlZB",
        "outputId": "10a4f282-736c-4f36-b889-b4d5e84e186e"
      },
      "outputs": [
        {
          "name": "stdout",
          "output_type": "stream",
          "text": [
            "               Score\n",
            "count  309131.000000\n",
            "mean        4.180241\n",
            "std         1.312151\n",
            "min         1.000000\n",
            "25%         4.000000\n",
            "50%         5.000000\n",
            "75%         5.000000\n",
            "max         5.000000\n"
          ]
        }
      ],
      "source": [
        "print(train_data.describe())"
      ]
    },
    {
      "cell_type": "code",
      "execution_count": null,
      "metadata": {
        "colab": {
          "base_uri": "https://localhost:8080/"
        },
        "id": "mxkdUqrqZshf",
        "outputId": "bbca7d10-ce81-426e-957a-30350272f067"
      },
      "outputs": [
        {
          "name": "stdout",
          "output_type": "stream",
          "text": [
            "Average Word Count by Rating:\n",
            "Score\n",
            "1    82.733354\n",
            "2    90.140971\n",
            "3    95.951322\n",
            "4    91.860265\n",
            "5    73.859788\n",
            "Name: word_count, dtype: float64\n"
          ]
        }
      ],
      "source": [
        "#Average word count by Rating\n",
        "\n",
        "import pandas as pd\n",
        "\n",
        "\n",
        "\n",
        "# Calculate word count for each review(Text)\n",
        "train_data['word_count'] = train_data['Text'].apply(lambda x: len(str(x).split()))\n",
        "\n",
        "# Group by 'Rating' and calculate the average word count\n",
        "average_word_count_by_rating = train_data.groupby('Score')['word_count'].mean()\n",
        "\n",
        "\n",
        "print(\"Average Word Count by Rating:\")\n",
        "print(average_word_count_by_rating)"
      ]
    },
    {
      "cell_type": "markdown",
      "metadata": {
        "id": "8R_C1h6UZ3X2"
      },
      "source": [
        "\n",
        "### Correlation Between Word Count and Rating Of Reviews"
      ]
    },
    {
      "cell_type": "code",
      "execution_count": null,
      "metadata": {
        "colab": {
          "base_uri": "https://localhost:8080/",
          "height": 825
        },
        "id": "0G2wgOLsZ6Xd",
        "outputId": "20bd0b1a-5ea0-4b4b-9a50-27cab1e4caec"
      },
      "outputs": [
        {
          "name": "stdout",
          "output_type": "stream",
          "text": [
            "Average Word Count by Rating:\n",
            "   Score  word_count\n",
            "0      1   82.733354\n",
            "1      2   90.140971\n",
            "2      3   95.951322\n",
            "3      4   91.860265\n",
            "4      5   73.859788\n"
          ]
        },
        {
          "name": "stderr",
          "output_type": "stream",
          "text": [
            "<ipython-input-14-49b21710647a>:21: FutureWarning: \n",
            "\n",
            "Passing `palette` without assigning `hue` is deprecated and will be removed in v0.14.0. Assign the `x` variable to `hue` and set `legend=False` for the same effect.\n",
            "\n",
            "  barplot = sns.barplot(x='Score', y='word_count', data=average_word_count_by_rating, palette=palette)\n"
          ]
        },
        {
          "data": {
            "image/png": "[encoded data removed]",
            "text/plain": [
              "<Figure size 1000x600 with 1 Axes>"
            ]
          },
          "metadata": {},
          "output_type": "display_data"
        }
      ],
      "source": [
        "import pandas as pd\n",
        "import matplotlib.pyplot as plt\n",
        "import seaborn as sns\n",
        "\n",
        "# Assuming train_data is already defined and loaded\n",
        "\n",
        "# Calculate word count for each review(Text)\n",
        "train_data['word_count'] = train_data['Text'].apply(lambda x: len(str(x).split()))\n",
        "\n",
        "# Group by Rating and calculate the average word count\n",
        "average_word_count_by_rating = train_data.groupby('Score')['word_count'].mean().reset_index()\n",
        "print(\"Average Word Count by Rating:\")\n",
        "print(average_word_count_by_rating)\n",
        "\n",
        "\n",
        "# Setting up the plot\n",
        "plt.figure(figsize=(10, 6))  # Smaller graph size\n",
        "palette = sns.color_palette(\"pastel\", n_colors=len(average_word_count_by_rating['Score']))\n",
        "\n",
        "# Creating the bar plot\n",
        "barplot = sns.barplot(x='Score', y='word_count', data=average_word_count_by_rating, palette=palette)\n",
        "\n",
        "# Adding the text labels above the bars\n",
        "for p in barplot.patches:\n",
        "    barplot.annotate(format(p.get_height(), '.2f'),\n",
        "                     (p.get_x() + p.get_width() / 2., p.get_height()),\n",
        "                     ha = 'center', va = 'center',\n",
        "                     size = 10,\n",
        "                     xytext = (0, 5),\n",
        "                     textcoords = 'offset points')\n",
        "\n",
        "# Setting the title and labels\n",
        "plt.title('Average Word Count by Rating', fontsize=14)\n",
        "plt.xlabel('Rating', fontsize=12)\n",
        "plt.ylabel('Average Word Count', fontsize=12)\n",
        "\n",
        "plt.tight_layout()\n",
        "plt.show()"
      ]
    },
    {
      "cell_type": "markdown",
      "metadata": {
        "id": "SQgjzMwLgByM"
      },
      "source": [
        "This shows that the average word count for rating 5 is less than the average word count for rating 1 to 4, suggesting that the rating of 5 is more precise averaging approx 74 words."
      ]
    },
    {
      "cell_type": "code",
      "execution_count": null,
      "metadata": {
        "colab": {
          "base_uri": "https://localhost:8080/"
        },
        "id": "l_2nSY4Fe6Qz",
        "outputId": "4974b538-4b4e-4f9d-cf7c-51570f39df1b"
      },
      "outputs": [
        {
          "name": "stdout",
          "output_type": "stream",
          "text": [
            "          count       mean        std  min   25%   50%    75%    95%     max\n",
            "Score                                                                       \n",
            "1       28521.0  82.733354  76.646718  3.0  37.0  61.0  101.0  214.0  1751.0\n",
            "2       16287.0  90.140971  79.779993  6.0  40.0  67.0  112.0  233.0  1612.0\n",
            "3       23296.0  95.951322  89.100127  7.0  41.0  70.0  121.0  255.0  3432.0\n",
            "4       43876.0  91.860265  87.705394  6.0  37.0  65.0  115.0  249.0  2061.0\n",
            "5      197151.0  73.859788  72.045997  3.0  32.0  52.0   89.0  198.0  2520.0\n"
          ]
        }
      ],
      "source": [
        "# Calculate word count for each review\n",
        "train_data['word_count'] = train_data['Text'].apply(lambda x: len(str(x).split()))\n",
        "\n",
        "# Get distribution of word counts by rating\n",
        "distribution_by_rating = train_data.groupby('Score')['word_count'].describe(percentiles=[0.25, 0.5, 0.75, 0.95])\n",
        "\n",
        "# Print the desired statistics\n",
        "print(distribution_by_rating[['count', 'mean', 'std', 'min', '25%', '50%', '75%', '95%', 'max']])"
      ]
    },
    {
      "cell_type": "markdown",
      "metadata": {
        "id": "u9ioGeixg4y0"
      },
      "source": [
        "### Checking Anomalies"
      ]
    },
    {
      "cell_type": "code",
      "execution_count": null,
      "metadata": {
        "id": "OvtM009yhCtt"
      },
      "outputs": [],
      "source": [
        "import re\n",
        "import nltk # no. to text coversion\n",
        "import inflect\n",
        "from nltk.tokenize import word_tokenize\n",
        "from nltk.stem import WordNetLemmatizer\n",
        "from nltk.corpus import stopwords\n",
        "from sklearn.base import BaseEstimator, TransformerMixin\n",
        "from bs4 import BeautifulSoup  # for HTML tag removal\n",
        "\n",
        "\n",
        "# Function to check if a review contains only stop words\n",
        "def contains_only_stopwords(text, stopwords):\n",
        "    words = re.findall(r'\\b\\w+\\b', str(text).lower())\n",
        "    return all(word in stopwords for word in words)\n",
        "\n",
        "# Function to check if a review contains only special characters\n",
        "def contains_only_special_chars(text):\n",
        "    return bool(re.match(r'^[\\W_]+$', str(text)))\n",
        "\n",
        "# Function to check if a review contains only digits\n",
        "def contains_only_digits(text):\n",
        "    return bool(re.match(r'^\\d+$', str(text)))\n",
        "\n",
        "# Function to check if a review is empty or filled with white spaces\n",
        "def is_empty_or_space(text):\n",
        "    return str(text).isspace() or not str(text)\n",
        "\n",
        "# Function to check if a review contains HTML tags or URLs\n",
        "def contains_html_or_url(text):\n",
        "    return bool(re.findall(r'<[^>]+>', str(text))) or bool(re.findall(r'http\\S+|www.\\S+', str(text)))\n",
        "\n",
        "def contains_only_html_or_url(text):\n",
        "    # Check if text contains only HTML tags\n",
        "    if bool(re.fullmatch(r'(<[^>]+>)+', str(text))):\n",
        "        return True\n",
        "    # Check if text is just a URL\n",
        "    if bool(re.fullmatch(r'http\\S+|www.\\S+', str(text))):\n",
        "        return True\n",
        "    return False\n",
        "\n",
        "\n",
        "\n",
        "stop_words_set = set(nltk.corpus.stopwords.words('english'))\n",
        "\n",
        "# Count various anomalies in the data\n",
        "missing_data_count = train_data['Text'].isnull().sum()\n",
        "blanks_count = train_data['Text'].apply(is_empty_or_space).sum()\n",
        "only_stop_words_count = train_data['Text'].apply(lambda x: contains_only_stopwords(x, stop_words_set)).sum()\n",
        "only_special_chars_count = train_data['Text'].apply(contains_only_special_chars).sum()\n",
        "only_digits_count = train_data['Text'].apply(contains_only_digits).sum()\n",
        "html_or_url_count = train_data['Text'].apply(contains_html_or_url).sum()\n",
        "only_html_or_url_count = train_data['Text'].apply(contains_only_html_or_url).sum()\n",
        "\n",
        "asterisk_reviews_count = train_data['Text'].apply(lambda x: '*' in str(x)).sum()\n",
        "\n",
        "print(\"Checking Data Anomalies.\")\n",
        "print(\"Reviews with Missing Data/ Nulls:\", missing_data_count)\n",
        "print(\"Reviews with Blanks/ Empty Spaces:\", blanks_count)\n",
        "print(\"Reviews with Only Stop Words:\", only_stop_words_count)\n",
        "print(\"Reviews with Only Special Characters:\", only_special_chars_count)\n",
        "print(\"Reviews with Only Digits:\", only_digits_count)\n",
        "print(\"Reviews with HTML Code/ URL within text:\", html_or_url_count)\n",
        "print(\"Reviews with only HTML Code/ URL:\", only_html_or_url_count)\n",
        "print(\"Reviews with containing '*':\", asterisk_reviews_count)\n",
        "print(\"-----------------------\")\n"
      ]
    },
    {
      "cell_type": "code",
      "execution_count": null,
      "metadata": {
        "colab": {
          "base_uri": "https://localhost:8080/"
        },
        "id": "VTiXcdunyW29",
        "outputId": "83e44a8a-61b0-41b8-a066-96f055c7b593"
      },
      "outputs": [
        {
          "name": "stderr",
          "output_type": "stream",
          "text": [
            "[nltk_data] Downloading package punkt_tab to /root/nltk_data...\n",
            "[nltk_data]   Unzipping tokenizers/punkt_tab.zip.\n"
          ]
        },
        {
          "data": {
            "text/plain": [
              "True"
            ]
          },
          "execution_count": 3,
          "metadata": {},
          "output_type": "execute_result"
        }
      ],
      "source": [
        "import nltk\n",
        "nltk.download('punkt_tab')"
      ]
    },
    {
      "cell_type": "markdown",
      "metadata": {
        "id": "oe2ON4l0tHKu"
      },
      "source": [
        "### Trial Preprocessing  No 1"
      ]
    },
    {
      "cell_type": "code",
      "execution_count": null,
      "metadata": {
        "colab": {
          "base_uri": "https://localhost:8080/"
        },
        "id": "DxihmdMLjR1G",
        "outputId": "0e6cc052-daad-4dd0-c8ab-78cce9902f0c"
      },
      "outputs": [
        {
          "name": "stdout",
          "output_type": "stream",
          "text": [
            "Original vs Preprocessed text:\n",
            "                                                Text  \\\n",
            "0  I received this product early from the seller!...   \n",
            "1  *****<br />Numi's Collection Assortment Melang...   \n",
            "2  I was very careful not to overcook this pasta,...   \n",
            "3  Buying this multi-pack I was misled by the pic...   \n",
            "4  These bars are so good! I loved them warmed up...   \n",
            "\n",
            "                                 Preprocessed_Review  \n",
            "0  receiv product earli seller tastey great midda...  \n",
            "1  br numi collect assort melang includesbr herba...  \n",
            "2  care overcook pasta make sure take bite everi ...  \n",
            "3  buy multipack misl pictur whole hazel nut anot...  \n",
            "4  bar good love warm definit think great snack b...  \n"
          ]
        }
      ],
      "source": [
        "import nltk\n",
        "from nltk.tokenize import word_tokenize\n",
        "from nltk.corpus import stopwords\n",
        "from nltk.stem import PorterStemmer\n",
        "import re\n",
        "\n",
        "class TextPreprocessor:\n",
        "    def __init__(self, en_nlp=None):\n",
        "        # Download NLTK resources\n",
        "        nltk.download('punkt', quiet=True)\n",
        "        nltk.download('stopwords', quiet=True)\n",
        "        # Initialize stemmer and stopwords\n",
        "        self.stemmer = PorterStemmer()\n",
        "        self.stop_words = set(stopwords.words('english'))\n",
        "        self.en_nlp = en_nlp\n",
        "\n",
        "    def fit(self, X, y=None):\n",
        "        return self\n",
        "\n",
        "    def transform(self, X):\n",
        "        return [self.preprocess_text(text) for text in X]\n",
        "\n",
        "    def preprocess_text(self, text):\n",
        "        # Convert to lowercase\n",
        "        text = text.lower()\n",
        "        # Remove special characters\n",
        "        text = re.sub(r'[^a-zA-Z\\s]', '', text)\n",
        "        # Tokenize\n",
        "        tokens = word_tokenize(text)\n",
        "        # Remove stopwords\n",
        "        tokens = [token for token in tokens if token not in self.stop_words]\n",
        "        # Apply stemming\n",
        "        tokens = [self.stemmer.stem(token) for token in tokens]\n",
        "        # Join tokens back into text\n",
        "        return ' '.join(tokens)\n",
        "\n",
        "# Create preprocessor instance\n",
        "preprocessor = TextPreprocessor()\n",
        "\n",
        "# Apply to dataframe\n",
        "train_data['Preprocessed_Review'] = train_data['Text'].apply(preprocessor.preprocess_text)\n",
        "\n",
        "print(\"Original vs Preprocessed text:\")\n",
        "print(train_data[['Text', 'Preprocessed_Review']].head())"
      ]
    },
    {
      "cell_type": "markdown",
      "metadata": {
        "id": "qYOMkD3Ytco4"
      },
      "source": [
        "### Trial Preprocessing  No 2"
      ]
    },
    {
      "cell_type": "markdown",
      "metadata": {
        "id": "XvgIladmt01c"
      },
      "source": [
        "The following steps have been applied in the pre-processing.<br/>\n",
        "<ul>\n",
        "    <li>Removal of URL and HTML tags</li>\n",
        "    <li>Coversion of text to lower case</li>\n",
        "    <li>Conversion of numbers to text</li>\n",
        "    <li>Handling of special words like A++ and A*</li>\n",
        "    <li>Handling contraction</li>\n",
        "    <li>Stop words removal except negation words</li>\n",
        "    <li>Conversion of emoticons to text</li>\n",
        "    <li>Removal of special characters except + and * </li>\n",
        "    <li>Expanding contractions for specific terms</li>\n",
        "    <li>Excluding reviews which has only stop words</li>\n",
        "</ul>"
      ]
    },
    {
      "cell_type": "code",
      "execution_count": null,
      "metadata": {
        "colab": {
          "base_uri": "https://localhost:8080/"
        },
        "id": "3iH1O_xytepv",
        "outputId": "ea7cbe5e-982c-47ba-cc9b-01550ce650ef"
      },
      "outputs": [
        {
          "name": "stderr",
          "output_type": "stream",
          "text": [
            "[nltk_data] Downloading package punkt to /root/nltk_data...\n",
            "[nltk_data]   Package punkt is already up-to-date!\n",
            "[nltk_data] Downloading package stopwords to /root/nltk_data...\n",
            "[nltk_data]   Package stopwords is already up-to-date!\n",
            "[nltk_data] Downloading package wordnet to /root/nltk_data...\n",
            "[nltk_data]   Package wordnet is already up-to-date!\n"
          ]
        },
        {
          "name": "stdout",
          "output_type": "stream",
          "text": [
            "<class 'pandas.core.frame.DataFrame'>\n",
            "RangeIndex: 119662 entries, 0 to 119661\n",
            "Data columns (total 3 columns):\n",
            " #   Column               Non-Null Count   Dtype \n",
            "---  ------               --------------   ----- \n",
            " 0   id                   119662 non-null  int64 \n",
            " 1   Original_Review      119662 non-null  object\n",
            " 2   Preprocessed_Review  119662 non-null  object\n",
            "dtypes: int64(1), object(2)\n",
            "memory usage: 2.7+ MB\n",
            "<class 'pandas.core.frame.DataFrame'>\n",
            "RangeIndex: 309131 entries, 0 to 309130\n",
            "Data columns (total 3 columns):\n",
            " #   Column               Non-Null Count   Dtype \n",
            "---  ------               --------------   ----- \n",
            " 0   Original_Review      309131 non-null  object\n",
            " 1   Preprocessed_Review  309131 non-null  object\n",
            " 2   Overall              309131 non-null  int64 \n",
            "dtypes: int64(1), object(2)\n",
            "memory usage: 7.1+ MB\n"
          ]
        }
      ],
      "source": [
        "import re\n",
        "import nltk # no. to text coversion\n",
        "import inflect\n",
        "from nltk.tokenize import word_tokenize\n",
        "from nltk.stem import WordNetLemmatizer\n",
        "from nltk.corpus import stopwords\n",
        "from sklearn.base import BaseEstimator, TransformerMixin\n",
        "from bs4 import BeautifulSoup  # for HTML tag removal\n",
        "\n",
        "nltk.download('punkt')\n",
        "nltk.download('stopwords')\n",
        "nltk.download('wordnet')\n",
        "\n",
        "class TextPreprocessor(BaseEstimator, TransformerMixin):\n",
        "\n",
        "    def __init__(self, remove_urls=True, handle_contractions=True):\n",
        "        self.remove_urls = remove_urls\n",
        "        self.handle_contractions = handle_contractions\n",
        "        self.stop_words = set(stopwords.words('english'))\n",
        "        self.stop_words.difference_update(['no', 'not', \"don't\", 'never', 'none', 'neither', 'nor'])\n",
        "        self.lemmatizer = WordNetLemmatizer()\n",
        "        self.inflect_engine = inflect.engine()\n",
        "        self.emoticon_dict = {\n",
        "            ':)': 'smile',\n",
        "            ':(': 'sad',\n",
        "            ':D': 'happy',\n",
        "            ':d': 'happy',\n",
        "            ':P': 'playful',\n",
        "            ':/': 'confused',\n",
        "            ':|': 'neutral',\n",
        "            ';)': 'wink',\n",
        "            ':*': 'kiss',\n",
        "            '<3': 'heart',\n",
        "            ':O': 'surprised',\n",
        "            ':@': 'angry',\n",
        "            ':S': 'unsure',\n",
        "            ':*(': 'crying',\n",
        "            'XD': 'laughing',\n",
        "            ':>': 'skeptical',\n",
        "            ':3': 'cute',\n",
        "            ':v': 'pacman',\n",
        "            '>:(': 'angry',\n",
        "            ':v': 'happy',\n",
        "            ':poop:': 'poop',\n",
        "            ':rofl:': 'laughing',\n",
        "        }\n",
        "\n",
        "    def fit(self, X, y=None):\n",
        "        return self\n",
        "\n",
        "    def transform(self, X):\n",
        "        preprocessed_texts = [self.preprocess_text_nltk(text) for text in X]\n",
        "        return preprocessed_texts\n",
        "\n",
        "    def preprocess_text_nltk(self, text):\n",
        "        if not isinstance(text, str) or text.strip() == '':\n",
        "            return ''\n",
        "\n",
        "        # URL and HTML Tag removal\n",
        "        if self.remove_urls:\n",
        "            text = re.sub(r'http\\S+|www.\\S+', '', text)\n",
        "        text = BeautifulSoup(text, \"html.parser\").get_text()\n",
        "\n",
        "\n",
        "        # Convert numbers before further processing\n",
        "        text = self.convert_numbers(text)\n",
        "\n",
        "\n",
        "        # Normalize spaces around '+' and replace specific patterns/ handing special text within train data\n",
        "        #text = re.sub(r'\\s*\\+\\s*', '+', text)\n",
        "        text = re.sub(r'A+\\++', 'excellent', text)\n",
        "\n",
        "        #Lowercase the text\n",
        "        text = text.lower()\n",
        "\n",
        "        # Handle contractions\n",
        "        if self.handle_contractions:\n",
        "            text = self.expand_contractions(text)\n",
        "\n",
        "        # Convert emoticons to text\n",
        "        for emoticon, description in self.emoticon_dict.items():\n",
        "            text = text.replace(emoticon, description)\n",
        "\n",
        "\n",
        "\n",
        "\n",
        "\n",
        "        # Convert * to \"star\"\n",
        "        text = text.replace('*', ' star ')\n",
        "\n",
        "\n",
        "        # Retain *, numbers and +\n",
        "        cleaned_text = re.sub(r'[^a-zA-Z0-9\\s\\*\\+]', '', text)\n",
        "        tokens = word_tokenize(cleaned_text)\n",
        "\n",
        "\n",
        "        # Lemmatization and selective stop word removal\n",
        "        # Retain asterisks (*), plus signs (+), 'no', and 'not'\n",
        "        filtered_tokens = [self.lemmatizer.lemmatize(word) for word in tokens if word not in self.stop_words or word in ['*', '+', 'no', 'not',\"don't\"]]\n",
        "\n",
        "        # Check if the resulting list of tokens is empty (all stop words)\n",
        "        if not filtered_tokens:\n",
        "            # Return the cleaned text instead of joining the empty token list\n",
        "            return text\n",
        "        else:\n",
        "            return ' '.join(filtered_tokens)\n",
        "\n",
        "\n",
        "\n",
        "    def convert_numbers(self, text):\n",
        "        # Find all numbers with optional decimal points in the text\n",
        "        numbers = re.findall(r'\\b\\d+(?:\\.\\d+)?', text)\n",
        "\n",
        "        for number in numbers:\n",
        "            word_form = self.inflect_engine.number_to_words(number)\n",
        "            text = text.replace(number, word_form)\n",
        "\n",
        "        return text\n",
        "\n",
        "\n",
        "    def expand_contractions(self, text):\n",
        "        # Define contraction mapping\n",
        "        contractions = {\n",
        "            \"ain't\": \"am not\",\n",
        "            \"aren't\": \"are not\",\n",
        "            \"can't\": \"can not\",\n",
        "            \"'cause\": \"because\",\n",
        "            \"coz\": \"because\",\n",
        "            \"cause\": \"because\",\n",
        "            \"could've\": \"could have\",\n",
        "            \"couldn't\": \"could not\",\n",
        "            \"didn't\": \"did not\",\n",
        "            \"doesn't\": \"does not\",\n",
        "            \"don't\": \"do not\"\n",
        "        }\n",
        "        # Replace contractions with their expansions\n",
        "        for contraction, expansion in contractions.items():\n",
        "            text = text.replace(contraction, expansion)\n",
        "        return text\n",
        "\n",
        "\n",
        "############################################################\n",
        "text_preprocessor = TextPreprocessor(remove_urls=True,handle_contractions=True)\n",
        "\n",
        "# Preprocess the 'Review' column\n",
        "preprocessed_train_reviews = text_preprocessor.transform(train_data['Text'])\n",
        "preprocessed_test_reviews = text_preprocessor.transform(test_data['Text'])\n",
        "\n",
        "\n",
        "# Create a new DataFrame with preprocessed reviews and the original overall ratings\n",
        "processed_train_data = pd.DataFrame({\n",
        "    'Original_Review': train_data['Text'],\n",
        "    'Preprocessed_Review': preprocessed_train_reviews,\n",
        "    'Overall': train_data['Score']\n",
        "})\n",
        "\n",
        "\n",
        "\n",
        "processed_test_data= pd.DataFrame({\n",
        "    'id': test_data['Id'],\n",
        "    'Original_Review': test_data['Text'],\n",
        "    'Preprocessed_Review': preprocessed_test_reviews\n",
        "})\n",
        "\n",
        "\n",
        "\n",
        "# Save the combined data to a new CSV file\n",
        "processed_train_data.to_csv(\"processed_train_data_final_smt_pp.csv\", index=False)\n",
        "processed_test_data.to_csv(\"processed_test_data_final_smt_pp.csv\", index=False)\n",
        "\n",
        "processed_test_data.info()\n",
        "processed_train_data.info()\n"
      ]
    },
    {
      "cell_type": "markdown",
      "metadata": {
        "id": "TIfJ3r7HOMZM"
      },
      "source": [
        "### Running Count Vectorizer and TFIDF on 6 different classifiers:"
      ]
    },
    {
      "cell_type": "code",
      "execution_count": null,
      "metadata": {
        "colab": {
          "base_uri": "https://localhost:8080/"
        },
        "id": "CYk8IBDiOOoG",
        "outputId": "0ddaabca-2c79-4c79-e165-cdbafcd0923d"
      },
      "outputs": [
        {
          "name": "stderr",
          "output_type": "stream",
          "text": [
            "<ipython-input-11-e3be3c77048e>:23: FutureWarning: A value is trying to be set on a copy of a DataFrame or Series through chained assignment using an inplace method.\n",
            "The behavior will change in pandas 3.0. This inplace method will never work because the intermediate object on which we are setting values always behaves as a copy.\n",
            "\n",
            "For example, when doing 'df[col].method(value, inplace=True)', try using 'df.method({col: value}, inplace=True)' or df[col] = df[col].method(value) instead, to perform the operation inplace on the original object.\n",
            "\n",
            "\n",
            "  pre_trim_data_t4['Preprocessed_Review'].fillna('', inplace=True)\n"
          ]
        },
        {
          "name": "stdout",
          "output_type": "stream",
          "text": [
            "Using CountVectorizer with MultinomialNB:\n",
            "Classification Report:\n",
            "               precision    recall  f1-score   support\n",
            "\n",
            "           1       0.59      0.57      0.58      5644\n",
            "           2       0.25      0.01      0.03      3214\n",
            "           3       0.34      0.10      0.15      4679\n",
            "           4       0.35      0.26      0.30      8688\n",
            "           5       0.76      0.93      0.84     39602\n",
            "\n",
            "    accuracy                           0.69     61827\n",
            "   macro avg       0.46      0.37      0.38     61827\n",
            "weighted avg       0.63      0.69      0.64     61827\n",
            "\n",
            "Confusion Matrix:\n",
            " [[ 3219    71   204   308  1842]\n",
            " [  785    47   352   526  1504]\n",
            " [  525    36   454  1287  2377]\n",
            " [  312    13   186  2218  5959]\n",
            " [  623    22   140  1955 36862]]\n",
            "Using CountVectorizer with LogisticRegression:\n",
            "Classification Report:\n",
            "               precision    recall  f1-score   support\n",
            "\n",
            "           1       0.61      0.61      0.61      5644\n",
            "           2       0.30      0.19      0.23      3214\n",
            "           3       0.34      0.24      0.28      4679\n",
            "           4       0.40      0.23      0.29      8688\n",
            "           5       0.80      0.92      0.85     39602\n",
            "\n",
            "    accuracy                           0.71     61827\n",
            "   macro avg       0.49      0.44      0.45     61827\n",
            "weighted avg       0.66      0.71      0.68     61827\n",
            "\n",
            "Confusion Matrix:\n",
            " [[ 3429   551   351   155  1158]\n",
            " [  881   599   569   249   916]\n",
            " [  526   459  1134   795  1765]\n",
            " [  231   179   721  1990  5567]\n",
            " [  527   221   521  1741 36592]]\n",
            "Using TfidfVectorizer with MultinomialNB:\n"
          ]
        },
        {
          "name": "stderr",
          "output_type": "stream",
          "text": [
            "/usr/local/lib/python3.11/dist-packages/sklearn/metrics/_classification.py:1565: UndefinedMetricWarning: Precision is ill-defined and being set to 0.0 in labels with no predicted samples. Use `zero_division` parameter to control this behavior.\n",
            "  _warn_prf(average, modifier, f\"{metric.capitalize()} is\", len(result))\n",
            "/usr/local/lib/python3.11/dist-packages/sklearn/metrics/_classification.py:1565: UndefinedMetricWarning: Precision is ill-defined and being set to 0.0 in labels with no predicted samples. Use `zero_division` parameter to control this behavior.\n",
            "  _warn_prf(average, modifier, f\"{metric.capitalize()} is\", len(result))\n",
            "/usr/local/lib/python3.11/dist-packages/sklearn/metrics/_classification.py:1565: UndefinedMetricWarning: Precision is ill-defined and being set to 0.0 in labels with no predicted samples. Use `zero_division` parameter to control this behavior.\n",
            "  _warn_prf(average, modifier, f\"{metric.capitalize()} is\", len(result))\n"
          ]
        },
        {
          "name": "stdout",
          "output_type": "stream",
          "text": [
            "Classification Report:\n",
            "               precision    recall  f1-score   support\n",
            "\n",
            "           1       0.91      0.01      0.02      5644\n",
            "           2       0.00      0.00      0.00      3214\n",
            "           3       0.00      0.00      0.00      4679\n",
            "           4       0.40      0.00      0.00      8688\n",
            "           5       0.64      1.00      0.78     39602\n",
            "\n",
            "    accuracy                           0.64     61827\n",
            "   macro avg       0.39      0.20      0.16     61827\n",
            "weighted avg       0.55      0.64      0.50     61827\n",
            "\n",
            "Confusion Matrix:\n",
            " [[   50     0     0     0  5594]\n",
            " [    4     0     0     0  3210]\n",
            " [    0     0     0     0  4679]\n",
            " [    1     0     0     2  8685]\n",
            " [    0     0     0     3 39599]]\n",
            "Using TfidfVectorizer with LogisticRegression:\n",
            "Classification Report:\n",
            "               precision    recall  f1-score   support\n",
            "\n",
            "           1       0.63      0.64      0.64      5644\n",
            "           2       0.35      0.13      0.19      3214\n",
            "           3       0.39      0.23      0.29      4679\n",
            "           4       0.45      0.22      0.29      8688\n",
            "           5       0.79      0.95      0.86     39602\n",
            "\n",
            "    accuracy                           0.72     61827\n",
            "   macro avg       0.52      0.43      0.45     61827\n",
            "weighted avg       0.67      0.72      0.68     61827\n",
            "\n",
            "Confusion Matrix:\n",
            " [[ 3615   324   281   119  1305]\n",
            " [  925   426   555   217  1091]\n",
            " [  504   294  1098   845  1938]\n",
            " [  226    80   574  1882  5926]\n",
            " [  466    82   298  1151 37605]]\n"
          ]
        }
      ],
      "source": [
        "from sklearn.feature_extraction.text import CountVectorizer, TfidfVectorizer, HashingVectorizer\n",
        "from sklearn.svm import SVC\n",
        "from sklearn.naive_bayes import MultinomialNB  # Added import\n",
        "from sklearn.linear_model import LogisticRegression  # Added import\n",
        "from sklearn.model_selection import train_test_split\n",
        "from sklearn.metrics import classification_report, confusion_matrix\n",
        "import pandas as pd\n",
        "from sklearn.tree import DecisionTreeClassifier\n",
        "from sklearn.ensemble import RandomForestClassifier, GradientBoostingClassifier, AdaBoostClassifier, VotingClassifier\n",
        "from sklearn.svm import SVC, LinearSVC\n",
        "from sklearn.neighbors import KNeighborsClassifier\n",
        "from sklearn.neural_network import MLPClassifier\n",
        "from sklearn.naive_bayes import GaussianNB, BernoulliNB\n",
        "from gensim.models import KeyedVectors\n",
        "from sklearn.base import BaseEstimator, TransformerMixin\n",
        "import numpy as np\n",
        "\n",
        "\n",
        "# Load preprocessed data\n",
        "pre_trim_data_t4 = pd.read_csv(r\"processed_train_data_final_t4.csv\")\n",
        "\n",
        "# Fill missing values with empty strings\n",
        "pre_trim_data_t4['Preprocessed_Review'].fillna('', inplace=True)\n",
        "\n",
        "\n",
        "# Split the data into features (X) and target (y)\n",
        "X = pre_trim_data_t4['Preprocessed_Review']\n",
        "y = pre_trim_data_t4['Overall']\n",
        "\n",
        "# Split the data into train and test sets\n",
        "X_train, X_test, y_train, y_test = train_test_split(X, y, test_size=0.2, random_state=42)\n",
        "\n",
        "\n",
        "# Define a function to train, evaluate, and compute confusion matrix\n",
        "def train_evaluate_confusion_matrix(vectorizer, classifier, X_train, X_test, y_train, y_test):\n",
        "    # Vectorize the text\n",
        "    X_train_vectorized = vectorizer.fit_transform(X_train)\n",
        "    X_test_vectorized = vectorizer.transform(X_test)\n",
        "\n",
        "    # Train the classifier\n",
        "    classifier.fit(X_train_vectorized, y_train)\n",
        "\n",
        "    # Evaluate the classifier\n",
        "    y_pred = classifier.predict(X_test_vectorized)\n",
        "    report = classification_report(y_test, y_pred)\n",
        "\n",
        "    # Compute confusion matrix\n",
        "    cm = confusion_matrix(y_test, y_pred)\n",
        "\n",
        "    return report, cm\n",
        "\n",
        "# Experiment with different vectorizers and classifiers\n",
        "vectorizers_v3 = [CountVectorizer(), TfidfVectorizer()]\n",
        "classifiers_v3 = [MultinomialNB(), LogisticRegression(max_iter=1000)]\n",
        "\n",
        "for vectorizer in vectorizers_v3:\n",
        "    for classifier in classifiers_v3:\n",
        "        print(f\"Using {vectorizer.__class__.__name__} with {classifier.__class__.__name__}:\")\n",
        "        # Train and evaluate with the review data\n",
        "        report, cm = train_evaluate_confusion_matrix(vectorizer, classifier, X_train, X_test, y_train, y_test)\n",
        "        print(\"Classification Report:\\n\", report)\n",
        "        print(\"Confusion Matrix:\\n\", cm)\n"
      ]
    },
    {
      "cell_type": "markdown",
      "metadata": {
        "id": "XcARkQDIdHMt"
      },
      "source": [
        "### Table comparison:"
      ]
    },
    {
      "cell_type": "code",
      "execution_count": null,
      "metadata": {
        "colab": {
          "base_uri": "https://localhost:8080/",
          "height": 418
        },
        "id": "J9RSEIoldK2i",
        "outputId": "7a28149d-9deb-47e5-dbcb-bb490f2ff09c"
      },
      "outputs": [
        {
          "data": {
            "text/html": [
              "<style type=\"text/css\">\n",
              "#T_13c32 td:hover {\n",
              "  background-color: #ffffb3;\n",
              "}\n",
              "#T_13c32 .index_name {\n",
              "  font-style: italic;\n",
              "  color: darkgrey;\n",
              "  font-weight: normal;\n",
              "}\n",
              "#T_13c32 th:not(.index_name) {\n",
              "  background-color: #000066;\n",
              "  color: white;\n",
              "  text-align: center;\n",
              "}\n",
              "#T_13c32 .col_heading {\n",
              "  font-size: 22px;\n",
              "  text-align: center;\n",
              "  border: none;\n",
              "}\n",
              "#T_13c32 .row_heading {\n",
              "  font-size: 22px;\n",
              "  text-align: center;\n",
              "  border: none;\n",
              "}\n",
              "#T_13c32 .data {\n",
              "  font-size: 22px;\n",
              "  text-align: center;\n",
              "  border: none;\n",
              "}\n",
              "#T_13c32 td.row1.col0 {\n",
              "  background-color: green;\n",
              "  color: white;\n",
              "}\n",
              "#T_13c32 td.row1.col1 {\n",
              "  background-color: green;\n",
              "  color: white;\n",
              "}\n",
              "#T_13c32 caption {\n",
              "  caption-side: top;\n",
              "  font-size: 20px;\n",
              "  color: black;\n",
              "  font-weight: bold;\n",
              "  text-align: center;\n",
              "  margin-bottom: 30px;\n",
              "}\n",
              "</style>\n",
              "<table id=\"T_13c32\" class=\"dataframe\">\n",
              "  <caption>Comparison of classifiers performance - Accuracy</caption>\n",
              "  <thead>\n",
              "    <tr>\n",
              "      <th class=\"blank level0\" >&nbsp;</th>\n",
              "      <th id=\"T_13c32_level0_col0\" class=\"col_heading level0 col0\" >('CountVectorizer',)</th>\n",
              "      <th id=\"T_13c32_level0_col1\" class=\"col_heading level0 col1\" >('TFIDF',)</th>\n",
              "    </tr>\n",
              "  </thead>\n",
              "  <tbody>\n",
              "    <tr>\n",
              "      <th id=\"T_13c32_level0_row0\" class=\"row_heading level0 row0\" >MultinomialNB</th>\n",
              "      <td id=\"T_13c32_row0_col0\" class=\"data row0 col0\" >69%</td>\n",
              "      <td id=\"T_13c32_row0_col1\" class=\"data row0 col1\" >64%</td>\n",
              "    </tr>\n",
              "    <tr>\n",
              "      <th id=\"T_13c32_level0_row1\" class=\"row_heading level0 row1\" >Logistic Regression</th>\n",
              "      <td id=\"T_13c32_row1_col0\" class=\"data row1 col0\" >71%</td>\n",
              "      <td id=\"T_13c32_row1_col1\" class=\"data row1 col1\" >72%</td>\n",
              "    </tr>\n",
              "    <tr>\n",
              "      <th id=\"T_13c32_level0_row2\" class=\"row_heading level0 row2\" >DecisionTreeClassifier</th>\n",
              "      <td id=\"T_13c32_row2_col0\" class=\"data row2 col0\" >60%</td>\n",
              "      <td id=\"T_13c32_row2_col1\" class=\"data row2 col1\" >59%</td>\n",
              "    </tr>\n",
              "    <tr>\n",
              "      <th id=\"T_13c32_level0_row3\" class=\"row_heading level0 row3\" >GradientBoostingClassifier</th>\n",
              "      <td id=\"T_13c32_row3_col0\" class=\"data row3 col0\" >68%</td>\n",
              "      <td id=\"T_13c32_row3_col1\" class=\"data row3 col1\" >68%</td>\n",
              "    </tr>\n",
              "    <tr>\n",
              "      <th id=\"T_13c32_level0_row4\" class=\"row_heading level0 row4\" >AdaBoostClassifier</th>\n",
              "      <td id=\"T_13c32_row4_col0\" class=\"data row4 col0\" >64%</td>\n",
              "      <td id=\"T_13c32_row4_col1\" class=\"data row4 col1\" >64%</td>\n",
              "    </tr>\n",
              "    <tr>\n",
              "      <th id=\"T_13c32_level0_row5\" class=\"row_heading level0 row5\" >KNeighborsClassifier</th>\n",
              "      <td id=\"T_13c32_row5_col0\" class=\"data row5 col0\" >63%</td>\n",
              "      <td id=\"T_13c32_row5_col1\" class=\"data row5 col1\" >63%</td>\n",
              "    </tr>\n",
              "  </tbody>\n",
              "</table>\n"
            ],
            "text/plain": [
              "<pandas.io.formats.style.Styler at 0x7c93e37b1a90>"
            ]
          },
          "execution_count": 8,
          "metadata": {},
          "output_type": "execute_result"
        }
      ],
      "source": [
        "# Create the dataframe for accuracy scores of all 6 classifiers\n",
        "df_accuracy = pd.DataFrame([\n",
        "    ['69%', '64%'],\n",
        "    ['71%', '72%'],\n",
        "    ['60%', '59%'],\n",
        "    ['68%', '68%'],\n",
        "    ['64%', '64%'],\n",
        "    ['63%', '63%']\n",
        "], index=pd.Index(['MultinomialNB', 'Logistic Regression', 'DecisionTreeClassifier', 'GradientBoostingClassifier', 'AdaBoostClassifier', 'KNeighborsClassifier']),\n",
        "   columns=pd.MultiIndex.from_product([['CountVectorizer', 'TFIDF']]))\n",
        "df_accuracy.style\n",
        "\n",
        "\n",
        "s_accuracy = df_accuracy.style\n",
        "# s_f1 = df_f1.style\n",
        "# Add table styles\n",
        "cell_hover = {'selector': 'td:hover', 'props': [('background-color', '#ffffb3')]}\n",
        "index_names = {'selector': '.index_name', 'props': 'font-style: italic; color: darkgrey; font-weight: normal;'}\n",
        "headers = {'selector': 'th:not(.index_name)', 'props': 'background-color: #000066; color: white; text-align: center'}\n",
        "s_accuracy.set_table_styles([cell_hover, index_names, headers])\n",
        "s_accuracy.set_table_styles([\n",
        "        {'selector': '.col_heading', 'props': 'font-size: 22px; text-align: center; border: none;'},\n",
        "    {'selector': '.row_heading', 'props': 'font-size: 22px; text-align: center; border: none;'},\n",
        "    {'selector': '.data', 'props': 'font-size: 22px; text-align: center; border: none;'},\n",
        "    {'selector': 'td.row1.col0',  'props': 'background-color: green; color: white'},\n",
        "    {'selector': 'td.row1.col1',  'props': 'background-color: green; color: white'},\n",
        "], overwrite=False)\n",
        "s_accuracy.set_caption(\"Comparison of classifiers performance - Accuracy\") \\\n",
        "    .set_table_styles([{\n",
        "        'selector': 'caption',\n",
        "        'props': 'caption-side: top; font-size: 20px; color: black; font-weight: bold; text-align: center; margin-bottom: 30px'\n",
        "    }], overwrite=False)\n",
        "\n",
        "# s_accuracy.format('{:.2f}')"
      ]
    },
    {
      "cell_type": "markdown",
      "metadata": {
        "id": "ZrmKJUgQhuvl"
      },
      "source": [
        "Since <b>Logistic Regression</b> performed the best, we will explore other vectorizer techniques such as <b>count vectorizer with n-grams. TFIDF with n-grams, fastText vectorizer and HashingVectorizer</b> on <b>Logistic Regression</b>."
      ]
    },
    {
      "cell_type": "markdown",
      "metadata": {
        "id": "MZs6Wod5xqfS"
      },
      "source": [
        "## HashingVectorizer with Logistic regression:\n"
      ]
    },
    {
      "cell_type": "code",
      "execution_count": null,
      "metadata": {
        "colab": {
          "base_uri": "https://localhost:8080/"
        },
        "id": "ecdu384txsQi",
        "outputId": "fc431725-35f3-4d8e-c070-87fd2a85a431"
      },
      "outputs": [
        {
          "name": "stderr",
          "output_type": "stream",
          "text": [
            "<ipython-input-4-fe7aa8165f73>:8: FutureWarning: A value is trying to be set on a copy of a DataFrame or Series through chained assignment using an inplace method.\n",
            "The behavior will change in pandas 3.0. This inplace method will never work because the intermediate object on which we are setting values always behaves as a copy.\n",
            "\n",
            "For example, when doing 'df[col].method(value, inplace=True)', try using 'df.method({col: value}, inplace=True)' or df[col] = df[col].method(value) instead, to perform the operation inplace on the original object.\n",
            "\n",
            "\n",
            "  train_data['Preprocessed_Review'].fillna('', inplace=True)\n"
          ]
        },
        {
          "name": "stdout",
          "output_type": "stream",
          "text": [
            "Using HashingVectorizer with LogisticRegression:\n",
            "Classification Report:\n",
            "               precision    recall  f1-score   support\n",
            "\n",
            "           1       0.63      0.64      0.63      5644\n",
            "           2       0.36      0.11      0.17      3214\n",
            "           3       0.39      0.23      0.29      4679\n",
            "           4       0.45      0.20      0.28      8688\n",
            "           5       0.78      0.95      0.86     39602\n",
            "\n",
            "    accuracy                           0.72     61827\n",
            "   macro avg       0.52      0.43      0.45     61827\n",
            "weighted avg       0.67      0.72      0.68     61827\n",
            "\n",
            "Confusion Matrix:\n",
            " [[ 3584   260   267   116  1417]\n",
            " [  882   368   572   193  1199]\n",
            " [  513   246  1090   773  2057]\n",
            " [  226    75   557  1735  6095]\n",
            " [  504    72   280  1007 37739]]\n"
          ]
        }
      ],
      "source": [
        "from sklearn.feature_extraction.text import CountVectorizer, TfidfVectorizer, HashingVectorizer\n",
        "from sklearn.linear_model import LogisticRegression\n",
        "from sklearn.metrics import classification_report, confusion_matrix\n",
        "from sklearn.model_selection import train_test_split\n",
        "import pandas as pd\n",
        "\n",
        "# Fill missing values with empty strings\n",
        "train_data['Preprocessed_Review'].fillna('', inplace=True)\n",
        "\n",
        "# Split the data into features (X) and target (y)\n",
        "X = train_data['Preprocessed_Review']\n",
        "y = train_data['Score']\n",
        "\n",
        "# Split the data into train and test sets\n",
        "X_train, X_test, y_train, y_test = train_test_split(X, y, test_size=0.2, random_state=42)\n",
        "\n",
        "# Define a function to train, evaluate, and compute confusion matrix\n",
        "def train_evaluate_confusion_matrix(vectorizer, classifier, X_train, X_test, y_train, y_test):\n",
        "    # Vectorize the text\n",
        "    X_train_vectorized = vectorizer.fit_transform(X_train)\n",
        "    X_test_vectorized = vectorizer.transform(X_test)\n",
        "\n",
        "    # Train the classifier\n",
        "    classifier.fit(X_train_vectorized, y_train)\n",
        "\n",
        "    # Evaluate the classifier\n",
        "    y_pred = classifier.predict(X_test_vectorized)\n",
        "    report = classification_report(y_test, y_pred)\n",
        "\n",
        "    # Compute confusion matrix\n",
        "    cm = confusion_matrix(y_test, y_pred)\n",
        "\n",
        "    return report, cm\n",
        "\n",
        "# Experiment with different vectorizers and classifiers\n",
        "vectorizers_v2 = [HashingVectorizer()]\n",
        "classifiers_v2 = [LogisticRegression(max_iter=1000)]\n",
        "\n",
        "for vectorizer in vectorizers_v2:\n",
        "    for classifier in classifiers_v2:\n",
        "        print(f\"Using {vectorizer.__class__.__name__} with {classifier.__class__.__name__}:\")\n",
        "        # Train and evaluate with the truncated review data\n",
        "        report, cm = train_evaluate_confusion_matrix(vectorizer, classifier, X_train, X_test, y_train, y_test)\n",
        "        print(\"Classification Report:\\n\", report)\n",
        "        print(\"Confusion Matrix:\\n\", cm)\n"
      ]
    },
    {
      "cell_type": "markdown",
      "metadata": {
        "id": "Q066APUo1HcY"
      },
      "source": [
        "### FastText Vectorizer with Logistic regression:"
      ]
    },
    {
      "cell_type": "code",
      "execution_count": null,
      "metadata": {
        "colab": {
          "base_uri": "https://localhost:8080/"
        },
        "id": "tyqFwvI2282K",
        "outputId": "c70c19a3-ff62-41c7-be81-a354b362aea4"
      },
      "outputs": [
        {
          "name": "stdout",
          "output_type": "stream",
          "text": [
            "Collecting gensim\n",
            "  Downloading gensim-4.3.3-cp311-cp311-manylinux_2_17_x86_64.manylinux2014_x86_64.whl.metadata (8.1 kB)\n",
            "Collecting numpy<2.0,>=1.18.5 (from gensim)\n",
            "  Downloading numpy-1.26.4-cp311-cp311-manylinux_2_17_x86_64.manylinux2014_x86_64.whl.metadata (61 kB)\n",
            "\u001b[2K     \u001b[90m━━━━━━━━━━━━━━━━━━━━━━━━━━━━━━━━━━━━━━━━\u001b[0m \u001b[32m61.0/61.0 kB\u001b[0m \u001b[31m2.9 MB/s\u001b[0m eta \u001b[36m0:00:00\u001b[0m\n",
            "\u001b[?25hCollecting scipy<1.14.0,>=1.7.0 (from gensim)\n",
            "  Downloading scipy-1.13.1-cp311-cp311-manylinux_2_17_x86_64.manylinux2014_x86_64.whl.metadata (60 kB)\n",
            "\u001b[2K     \u001b[90m━━━━━━━━━━━━━━━━━━━━━━━━━━━━━━━━━━━━━━━━\u001b[0m \u001b[32m60.6/60.6 kB\u001b[0m \u001b[31m2.3 MB/s\u001b[0m eta \u001b[36m0:00:00\u001b[0m\n",
            "\u001b[?25hRequirement already satisfied: smart-open>=1.8.1 in /usr/local/lib/python3.11/dist-packages (from gensim) (7.1.0)\n",
            "Requirement already satisfied: wrapt in /usr/local/lib/python3.11/dist-packages (from smart-open>=1.8.1->gensim) (1.17.2)\n",
            "Downloading gensim-4.3.3-cp311-cp311-manylinux_2_17_x86_64.manylinux2014_x86_64.whl (26.7 MB)\n",
            "\u001b[2K   \u001b[90m━━━━━━━━━━━━━━━━━━━━━━━━━━━━━━━━━━━━━━━━\u001b[0m \u001b[32m26.7/26.7 MB\u001b[0m \u001b[31m44.2 MB/s\u001b[0m eta \u001b[36m0:00:00\u001b[0m\n",
            "\u001b[?25hDownloading numpy-1.26.4-cp311-cp311-manylinux_2_17_x86_64.manylinux2014_x86_64.whl (18.3 MB)\n",
            "\u001b[2K   \u001b[90m━━━━━━━━━━━━━━━━━━━━━━━━━━━━━━━━━━━━━━━━\u001b[0m \u001b[32m18.3/18.3 MB\u001b[0m \u001b[31m59.5 MB/s\u001b[0m eta \u001b[36m0:00:00\u001b[0m\n",
            "\u001b[?25hDownloading scipy-1.13.1-cp311-cp311-manylinux_2_17_x86_64.manylinux2014_x86_64.whl (38.6 MB)\n",
            "\u001b[2K   \u001b[90m━━━━━━━━━━━━━━━━━━━━━━━━━━━━━━━━━━━━━━━━\u001b[0m \u001b[32m38.6/38.6 MB\u001b[0m \u001b[31m14.5 MB/s\u001b[0m eta \u001b[36m0:00:00\u001b[0m\n",
            "\u001b[?25hInstalling collected packages: numpy, scipy, gensim\n",
            "  Attempting uninstall: numpy\n",
            "    Found existing installation: numpy 2.0.2\n",
            "    Uninstalling numpy-2.0.2:\n",
            "      Successfully uninstalled numpy-2.0.2\n",
            "  Attempting uninstall: scipy\n",
            "    Found existing installation: scipy 1.14.1\n",
            "    Uninstalling scipy-1.14.1:\n",
            "      Successfully uninstalled scipy-1.14.1\n",
            "Successfully installed gensim-4.3.3 numpy-1.26.4 scipy-1.13.1\n"
          ]
        }
      ],
      "source": [
        "!pip install gensim"
      ]
    },
    {
      "cell_type": "code",
      "execution_count": null,
      "metadata": {
        "colab": {
          "base_uri": "https://localhost:8080/"
        },
        "id": "0pGuWZP43F1S",
        "outputId": "06f91657-ee18-4f36-da2a-746f772546a2"
      },
      "outputs": [
        {
          "name": "stdout",
          "output_type": "stream",
          "text": [
            "--2025-04-04 10:49:04--  https://dl.fbaipublicfiles.com/fasttext/vectors-english/wiki-news-300d-1M.vec.zip\n",
            "Resolving dl.fbaipublicfiles.com (dl.fbaipublicfiles.com)... 18.173.166.51, 18.173.166.74, 18.173.166.48, ...\n",
            "Connecting to dl.fbaipublicfiles.com (dl.fbaipublicfiles.com)|18.173.166.51|:443... connected.\n",
            "HTTP request sent, awaiting response... 200 OK\n",
            "Length: 681808098 (650M) [application/zip]\n",
            "Saving to: ‘wiki-news-300d-1M.vec.zip’\n",
            "\n",
            "wiki-news-300d-1M.v 100%[===================>] 650.22M  36.4MB/s    in 9.1s    \n",
            "\n",
            "2025-04-04 10:49:13 (71.6 MB/s) - ‘wiki-news-300d-1M.vec.zip’ saved [681808098/681808098]\n",
            "\n",
            "Archive:  wiki-news-300d-1M.vec.zip\n",
            "  inflating: wiki-news-300d-1M.vec   \n"
          ]
        }
      ],
      "source": [
        "!wget https://dl.fbaipublicfiles.com/fasttext/vectors-english/wiki-news-300d-1M.vec.zip\n",
        "!unzip wiki-news-300d-1M.vec.zip\n"
      ]
    },
    {
      "cell_type": "code",
      "execution_count": null,
      "metadata": {
        "colab": {
          "base_uri": "https://localhost:8080/"
        },
        "id": "svPGtAV51NMb",
        "outputId": "28d9ebf3-c0c4-4b2f-cd1e-fdcc19b1267e"
      },
      "outputs": [
        {
          "name": "stdout",
          "output_type": "stream",
          "text": [
            "Using FastTextVectorizer with LogisticRegression:\n",
            "Classification Report:\n",
            "               precision    recall  f1-score   support\n",
            "\n",
            "           1       0.53      0.43      0.47      5644\n",
            "           2       0.33      0.03      0.05      3214\n",
            "           3       0.32      0.09      0.14      4679\n",
            "           4       0.38      0.06      0.10      8688\n",
            "           5       0.70      0.96      0.81     39602\n",
            "\n",
            "    accuracy                           0.67     61827\n",
            "   macro avg       0.45      0.31      0.32     61827\n",
            "weighted avg       0.59      0.67      0.59     61827\n",
            "\n",
            "Confusion Matrix:\n",
            " [[ 2399    64   149    54  2978]\n",
            " [  657    95   260    77  2125]\n",
            " [  468    62   429   286  3434]\n",
            " [  287    27   278   512  7584]\n",
            " [  728    36   215   429 38194]]\n"
          ]
        }
      ],
      "source": [
        "from sklearn.linear_model import LogisticRegression\n",
        "from sklearn.metrics import classification_report, confusion_matrix\n",
        "from sklearn.model_selection import train_test_split\n",
        "import pandas as pd\n",
        "from gensim.models import KeyedVectors\n",
        "from sklearn.base import BaseEstimator, TransformerMixin\n",
        "import numpy as np\n",
        "\n",
        "class FastTextVectorizer(BaseEstimator, TransformerMixin):\n",
        "    def __init__(self, ft_model):\n",
        "        self.ft_model = ft_model\n",
        "        self.vector_size = ft_model.vector_size\n",
        "\n",
        "    def fit(self, X, y=None):\n",
        "        return self\n",
        "\n",
        "    def transform(self, X):\n",
        "        return np.array([self.transform_text(text) for text in X])\n",
        "\n",
        "    def transform_text(self, text):\n",
        "        words = text.split()\n",
        "        vectors = [self.ft_model[word] for word in words if word in self.ft_model]\n",
        "        if vectors:\n",
        "            return np.mean(vectors, axis=0)\n",
        "        else:\n",
        "            return np.zeros(self.vector_size)\n",
        "\n",
        "\n",
        "# Load the FastText model with a limit\n",
        "ft_model = KeyedVectors.load_word2vec_format(\"wiki-news-300d-1M.vec\")\n",
        "\n",
        "# Fill missing values with empty strings\n",
        "train_data['Preprocessed_Review'].fillna('', inplace=True)\n",
        "\n",
        "# Split the data into features (X) and target (y)\n",
        "X = train_data['Preprocessed_Review']\n",
        "y = train_data['Score']\n",
        "\n",
        "# Split the data into train and test sets\n",
        "X_train, X_test, y_train, y_test = train_test_split(X, y, test_size=0.2, random_state=42)\n",
        "\n",
        "# Define a function to train, evaluate, and compute confusion matrix\n",
        "def train_evaluate_confusion_matrix(vectorizer, classifier, X_train, X_test, y_train, y_test):\n",
        "    # Vectorize the text\n",
        "    X_train_vectorized = vectorizer.fit_transform(X_train)\n",
        "    X_test_vectorized = vectorizer.transform(X_test)\n",
        "\n",
        "    # Train the classifier\n",
        "    classifier.fit(X_train_vectorized, y_train)\n",
        "\n",
        "    # Evaluate the classifier\n",
        "    y_pred = classifier.predict(X_test_vectorized)\n",
        "    report = classification_report(y_test, y_pred)\n",
        "\n",
        "    # Compute confusion matrix\n",
        "    cm = confusion_matrix(y_test, y_pred)\n",
        "\n",
        "    return report, cm\n",
        "\n",
        "# Experiment with FastTextVectorizer and Logistic Regression classifier\n",
        "vectorizer = FastTextVectorizer(ft_model)\n",
        "classifier = LogisticRegression(max_iter=1000)\n",
        "\n",
        "print(f\"Using FastTextVectorizer with {classifier.__class__.__name__}:\")\n",
        "# Train and evaluate with the truncated review data\n",
        "report, cm = train_evaluate_confusion_matrix(vectorizer, classifier, X_train, X_test, y_train, y_test)\n",
        "print(\"Classification Report:\\n\", report)\n",
        "print(\"Confusion Matrix:\\n\", cm)\n"
      ]
    },
    {
      "cell_type": "code",
      "execution_count": null,
      "metadata": {
        "colab": {
          "base_uri": "https://localhost:8080/",
          "height": 171
        },
        "id": "hhWi58gE_yLm",
        "outputId": "97adeb2f-6d24-43eb-8d3f-8d96701c7004"
      },
      "outputs": [
        {
          "data": {
            "text/html": [
              "<style type=\"text/css\">\n",
              "#T_f3232 td:hover {\n",
              "  background-color: #ffffb3;\n",
              "}\n",
              "#T_f3232 .index_name {\n",
              "  font-style: italic;\n",
              "  color: darkgrey;\n",
              "  font-weight: normal;\n",
              "}\n",
              "#T_f3232 th:not(.index_name) {\n",
              "  background-color: #000066;\n",
              "  color: white;\n",
              "  text-align: center;\n",
              "}\n",
              "#T_f3232 .col_heading {\n",
              "  font-size: 22px;\n",
              "  text-align: center;\n",
              "  border: none;\n",
              "}\n",
              "#T_f3232 .row_heading {\n",
              "  font-size: 22px;\n",
              "  text-align: center;\n",
              "  border: none;\n",
              "}\n",
              "#T_f3232 .data {\n",
              "  font-size: 22px;\n",
              "  text-align: center;\n",
              "  border: none;\n",
              "}\n",
              "#T_f3232 td.row0.col0 {\n",
              "  background-color: green;\n",
              "  color: white;\n",
              "}\n",
              "#T_f3232 caption {\n",
              "  caption-side: top;\n",
              "  font-size: 20px;\n",
              "  color: black;\n",
              "  font-weight: bold;\n",
              "  text-align: center;\n",
              "  margin-bottom: 30px;\n",
              "}\n",
              "</style>\n",
              "<table id=\"T_f3232\" class=\"dataframe\">\n",
              "  <caption>Comparison of HashingVectorizer and FastText Vectorizer using Logistic Regression</caption>\n",
              "  <thead>\n",
              "    <tr>\n",
              "      <th class=\"blank level0\" >&nbsp;</th>\n",
              "      <th id=\"T_f3232_level0_col0\" class=\"col_heading level0 col0\" >('HashingVectorizer',)</th>\n",
              "      <th id=\"T_f3232_level0_col1\" class=\"col_heading level0 col1\" >('FastText Vectorizer',)</th>\n",
              "    </tr>\n",
              "  </thead>\n",
              "  <tbody>\n",
              "    <tr>\n",
              "      <th id=\"T_f3232_level0_row0\" class=\"row_heading level0 row0\" >Logistic Regression</th>\n",
              "      <td id=\"T_f3232_row0_col0\" class=\"data row0 col0\" >72%</td>\n",
              "      <td id=\"T_f3232_row0_col1\" class=\"data row0 col1\" >67%</td>\n",
              "    </tr>\n",
              "  </tbody>\n",
              "</table>\n"
            ],
            "text/plain": [
              "<pandas.io.formats.style.Styler at 0x7e44b58d3c90>"
            ]
          },
          "execution_count": 13,
          "metadata": {},
          "output_type": "execute_result"
        }
      ],
      "source": [
        "# Create the dataframe for accuracy scores of two vectorizers\n",
        "df_accuracy = pd.DataFrame([\n",
        "    ['72%', '67%'],\n",
        "], index=pd.Index(['Logistic Regression']),\n",
        "   columns=pd.MultiIndex.from_product([['HashingVectorizer', 'FastText Vectorizer']]))\n",
        "df_accuracy.style\n",
        "\n",
        "\n",
        "s_accuracy = df_accuracy.style\n",
        "#s_f1 = df_f1.style\n",
        "# Add table styles\n",
        "cell_hover = {'selector': 'td:hover', 'props': [('background-color', '#ffffb3')]}\n",
        "index_names = {'selector': '.index_name', 'props': 'font-style: italic; color: darkgrey; font-weight: normal;'}\n",
        "headers = {'selector': 'th:not(.index_name)', 'props': 'background-color: #000066; color: white; text-align: center'}\n",
        "s_accuracy.set_table_styles([cell_hover, index_names, headers])\n",
        "s_accuracy.set_table_styles([\n",
        "        {'selector': '.col_heading', 'props': 'font-size: 22px; text-align: center; border: none;'},\n",
        "    {'selector': '.row_heading', 'props': 'font-size: 22px; text-align: center; border: none;'},\n",
        "    {'selector': '.data', 'props': 'font-size: 22px; text-align: center; border: none;'},\n",
        "    {'selector': 'td.row0.col0',  'props': 'background-color: green; color: white'},\n",
        "#     {'selector': 'td.row1.col1',  'props': 'background-color: green; color: white'},\n",
        "], overwrite=False)\n",
        "s_accuracy.set_caption(\"Comparison of HashingVectorizer and FastText Vectorizer using Logistic Regression\") \\\n",
        "    .set_table_styles([{\n",
        "        'selector': 'caption',\n",
        "        'props': 'caption-side: top; font-size: 20px; color: black; font-weight: bold; text-align: center; margin-bottom: 30px'\n",
        "    }], overwrite=False)\n",
        "\n",
        "# s_accuracy.format('{:.2f}')"
      ]
    },
    {
      "cell_type": "markdown",
      "metadata": {
        "id": "iGxsgTcsAIwx"
      },
      "source": [
        "# Part - 4: Model training, selection and hyperparameter tuning and evaluation:"
      ]
    },
    {
      "cell_type": "code",
      "execution_count": null,
      "metadata": {
        "colab": {
          "base_uri": "https://localhost:8080/",
          "height": 1000
        },
        "id": "rErw7BvuALZD",
        "outputId": "383e47d7-5ac6-471c-af2d-21b724394ea8"
      },
      "outputs": [
        {
          "name": "stdout",
          "output_type": "stream",
          "text": [
            "Classifier: LogisticRegression\n",
            "vectorizer CountVectorizer_Unigram_max_df_0.2\n",
            "Fitting 2 folds for each of 8 candidates, totalling 16 fits\n",
            "[CV 1/2] END classifier=LogisticRegression(max_iter=1000), classifier__C=0.01, classifier__penalty=l1;, score=nan total time=   4.9s\n",
            "[CV 2/2] END classifier=LogisticRegression(max_iter=1000), classifier__C=0.01, classifier__penalty=l1;, score=nan total time=   4.3s\n",
            "[CV 1/2] END classifier=LogisticRegression(max_iter=1000), classifier__C=0.01, classifier__penalty=l2;, score=0.698 total time=  27.0s\n",
            "[CV 2/2] END classifier=LogisticRegression(max_iter=1000), classifier__C=0.01, classifier__penalty=l2;, score=0.699 total time=  28.0s\n",
            "[CV 1/2] END classifier=LogisticRegression(max_iter=1000), classifier__C=0.1, classifier__penalty=l1;, score=nan total time=   4.0s\n",
            "[CV 2/2] END classifier=LogisticRegression(max_iter=1000), classifier__C=0.1, classifier__penalty=l1;, score=nan total time=   5.9s\n",
            "[CV 1/2] END classifier=LogisticRegression(max_iter=1000), classifier__C=0.1, classifier__penalty=l2;, score=0.703 total time=  49.7s\n",
            "[CV 2/2] END classifier=LogisticRegression(max_iter=1000), classifier__C=0.1, classifier__penalty=l2;, score=0.703 total time=  55.6s\n",
            "[CV 1/2] END classifier=LogisticRegression(max_iter=1000), classifier__C=1.0, classifier__penalty=l1;, score=nan total time=   5.7s\n",
            "[CV 2/2] END classifier=LogisticRegression(max_iter=1000), classifier__C=1.0, classifier__penalty=l1;, score=nan total time=   5.9s\n",
            "[CV 1/2] END classifier=LogisticRegression(max_iter=1000), classifier__C=1.0, classifier__penalty=l2;, score=0.692 total time= 1.7min\n",
            "[CV 2/2] END classifier=LogisticRegression(max_iter=1000), classifier__C=1.0, classifier__penalty=l2;, score=0.692 total time= 1.8min\n",
            "[CV 1/2] END classifier=LogisticRegression(max_iter=1000), classifier__C=10.0, classifier__penalty=l1;, score=nan total time=   3.9s\n",
            "[CV 2/2] END classifier=LogisticRegression(max_iter=1000), classifier__C=10.0, classifier__penalty=l1;, score=nan total time=   7.0s\n",
            "[CV 1/2] END classifier=LogisticRegression(max_iter=1000), classifier__C=10.0, classifier__penalty=l2;, score=0.665 total time= 3.0min\n",
            "[CV 2/2] END classifier=LogisticRegression(max_iter=1000), classifier__C=10.0, classifier__penalty=l2;, score=0.664 total time= 3.4min\n"
          ]
        },
        {
          "name": "stderr",
          "output_type": "stream",
          "text": [
            "/usr/local/lib/python3.11/dist-packages/sklearn/model_selection/_validation.py:528: FitFailedWarning: \n",
            "8 fits failed out of a total of 16.\n",
            "The score on these train-test partitions for these parameters will be set to nan.\n",
            "If these failures are not expected, you can try to debug them by setting error_score='raise'.\n",
            "\n",
            "Below are more details about the failures:\n",
            "--------------------------------------------------------------------------------\n",
            "8 fits failed with the following error:\n",
            "Traceback (most recent call last):\n",
            "  File \"/usr/local/lib/python3.11/dist-packages/sklearn/model_selection/_validation.py\", line 866, in _fit_and_score\n",
            "    estimator.fit(X_train, y_train, **fit_params)\n",
            "  File \"/usr/local/lib/python3.11/dist-packages/sklearn/base.py\", line 1389, in wrapper\n",
            "    return fit_method(estimator, *args, **kwargs)\n",
            "           ^^^^^^^^^^^^^^^^^^^^^^^^^^^^^^^^^^^^^^\n",
            "  File \"/usr/local/lib/python3.11/dist-packages/sklearn/pipeline.py\", line 662, in fit\n",
            "    self._final_estimator.fit(Xt, y, **last_step_params[\"fit\"])\n",
            "  File \"/usr/local/lib/python3.11/dist-packages/sklearn/base.py\", line 1389, in wrapper\n",
            "    return fit_method(estimator, *args, **kwargs)\n",
            "           ^^^^^^^^^^^^^^^^^^^^^^^^^^^^^^^^^^^^^^\n",
            "  File \"/usr/local/lib/python3.11/dist-packages/sklearn/linear_model/_logistic.py\", line 1193, in fit\n",
            "    solver = _check_solver(self.solver, self.penalty, self.dual)\n",
            "             ^^^^^^^^^^^^^^^^^^^^^^^^^^^^^^^^^^^^^^^^^^^^^^^^^^^\n",
            "  File \"/usr/local/lib/python3.11/dist-packages/sklearn/linear_model/_logistic.py\", line 63, in _check_solver\n",
            "    raise ValueError(\n",
            "ValueError: Solver lbfgs supports only 'l2' or None penalties, got l1 penalty.\n",
            "\n",
            "  warnings.warn(some_fits_failed_message, FitFailedWarning)\n",
            "/usr/local/lib/python3.11/dist-packages/sklearn/model_selection/_search.py:1108: UserWarning: One or more of the test scores are non-finite: [       nan 0.69824588        nan 0.70279494        nan 0.69190551\n",
            "        nan 0.66454243]\n",
            "  warnings.warn(\n"
          ]
        },
        {
          "name": "stdout",
          "output_type": "stream",
          "text": [
            "Classifier: LogisticRegression\n",
            "vectorizer CountVectorizer_Bigram_max_df_0.2\n",
            "Fitting 2 folds for each of 8 candidates, totalling 16 fits\n",
            "[CV 1/2] END classifier=LogisticRegression(max_iter=1000), classifier__C=0.01, classifier__penalty=l1;, score=nan total time=  19.7s\n",
            "[CV 2/2] END classifier=LogisticRegression(max_iter=1000), classifier__C=0.01, classifier__penalty=l1;, score=nan total time=  19.0s\n",
            "[CV 1/2] END classifier=LogisticRegression(max_iter=1000), classifier__C=0.01, classifier__penalty=l2;, score=0.709 total time= 3.0min\n",
            "[CV 2/2] END classifier=LogisticRegression(max_iter=1000), classifier__C=0.01, classifier__penalty=l2;, score=0.709 total time= 3.1min\n",
            "[CV 1/2] END classifier=LogisticRegression(max_iter=1000), classifier__C=0.1, classifier__penalty=l1;, score=nan total time=  20.4s\n",
            "[CV 2/2] END classifier=LogisticRegression(max_iter=1000), classifier__C=0.1, classifier__penalty=l1;, score=nan total time=  20.2s\n",
            "[CV 1/2] END classifier=LogisticRegression(max_iter=1000), classifier__C=0.1, classifier__penalty=l2;, score=0.719 total time= 5.7min\n",
            "[CV 2/2] END classifier=LogisticRegression(max_iter=1000), classifier__C=0.1, classifier__penalty=l2;, score=0.719 total time= 5.9min\n",
            "[CV 1/2] END classifier=LogisticRegression(max_iter=1000), classifier__C=1.0, classifier__penalty=l1;, score=nan total time=  22.6s\n",
            "[CV 2/2] END classifier=LogisticRegression(max_iter=1000), classifier__C=1.0, classifier__penalty=l1;, score=nan total time=  20.4s\n",
            "[CV 1/2] END classifier=LogisticRegression(max_iter=1000), classifier__C=1.0, classifier__penalty=l2;, score=0.713 total time= 6.0min\n",
            "[CV 2/2] END classifier=LogisticRegression(max_iter=1000), classifier__C=1.0, classifier__penalty=l2;, score=0.714 total time= 7.1min\n",
            "[CV 1/2] END classifier=LogisticRegression(max_iter=1000), classifier__C=10.0, classifier__penalty=l1;, score=nan total time=  18.7s\n",
            "[CV 2/2] END classifier=LogisticRegression(max_iter=1000), classifier__C=10.0, classifier__penalty=l1;, score=nan total time=  20.2s\n",
            "[CV 1/2] END classifier=LogisticRegression(max_iter=1000), classifier__C=10.0, classifier__penalty=l2;, score=0.707 total time= 5.3min\n",
            "[CV 2/2] END classifier=LogisticRegression(max_iter=1000), classifier__C=10.0, classifier__penalty=l2;, score=0.708 total time= 5.4min\n"
          ]
        },
        {
          "name": "stderr",
          "output_type": "stream",
          "text": [
            "/usr/local/lib/python3.11/dist-packages/sklearn/model_selection/_validation.py:528: FitFailedWarning: \n",
            "8 fits failed out of a total of 16.\n",
            "The score on these train-test partitions for these parameters will be set to nan.\n",
            "If these failures are not expected, you can try to debug them by setting error_score='raise'.\n",
            "\n",
            "Below are more details about the failures:\n",
            "--------------------------------------------------------------------------------\n",
            "8 fits failed with the following error:\n",
            "Traceback (most recent call last):\n",
            "  File \"/usr/local/lib/python3.11/dist-packages/sklearn/model_selection/_validation.py\", line 866, in _fit_and_score\n",
            "    estimator.fit(X_train, y_train, **fit_params)\n",
            "  File \"/usr/local/lib/python3.11/dist-packages/sklearn/base.py\", line 1389, in wrapper\n",
            "    return fit_method(estimator, *args, **kwargs)\n",
            "           ^^^^^^^^^^^^^^^^^^^^^^^^^^^^^^^^^^^^^^\n",
            "  File \"/usr/local/lib/python3.11/dist-packages/sklearn/pipeline.py\", line 662, in fit\n",
            "    self._final_estimator.fit(Xt, y, **last_step_params[\"fit\"])\n",
            "  File \"/usr/local/lib/python3.11/dist-packages/sklearn/base.py\", line 1389, in wrapper\n",
            "    return fit_method(estimator, *args, **kwargs)\n",
            "           ^^^^^^^^^^^^^^^^^^^^^^^^^^^^^^^^^^^^^^\n",
            "  File \"/usr/local/lib/python3.11/dist-packages/sklearn/linear_model/_logistic.py\", line 1193, in fit\n",
            "    solver = _check_solver(self.solver, self.penalty, self.dual)\n",
            "             ^^^^^^^^^^^^^^^^^^^^^^^^^^^^^^^^^^^^^^^^^^^^^^^^^^^\n",
            "  File \"/usr/local/lib/python3.11/dist-packages/sklearn/linear_model/_logistic.py\", line 63, in _check_solver\n",
            "    raise ValueError(\n",
            "ValueError: Solver lbfgs supports only 'l2' or None penalties, got l1 penalty.\n",
            "\n",
            "  warnings.warn(some_fits_failed_message, FitFailedWarning)\n",
            "/usr/local/lib/python3.11/dist-packages/sklearn/model_selection/_search.py:1108: UserWarning: One or more of the test scores are non-finite: [       nan 0.70878757        nan 0.71888445        nan 0.71304548\n",
            "        nan 0.70767962]\n",
            "  warnings.warn(\n"
          ]
        },
        {
          "name": "stdout",
          "output_type": "stream",
          "text": [
            "Classifier: LogisticRegression\n",
            "vectorizer CountVectorizer_Trigram_max_df_0.2\n",
            "Fitting 2 folds for each of 8 candidates, totalling 16 fits\n",
            "[CV 1/2] END classifier=LogisticRegression(max_iter=1000), classifier__C=0.01, classifier__penalty=l1;, score=nan total time=  51.2s\n",
            "[CV 2/2] END classifier=LogisticRegression(max_iter=1000), classifier__C=0.01, classifier__penalty=l1;, score=nan total time= 1.0min\n",
            "[CV 1/2] END classifier=LogisticRegression(max_iter=1000), classifier__C=0.01, classifier__penalty=l2;, score=0.709 total time= 8.8min\n",
            "[CV 2/2] END classifier=LogisticRegression(max_iter=1000), classifier__C=0.01, classifier__penalty=l2;, score=0.709 total time= 9.7min\n",
            "[CV 1/2] END classifier=LogisticRegression(max_iter=1000), classifier__C=0.1, classifier__penalty=l1;, score=nan total time=  51.7s\n"
          ]
        },
        {
          "ename": "KeyboardInterrupt",
          "evalue": "",
          "output_type": "error",
          "traceback": [
            "\u001b[0;31m---------------------------------------------------------------------------\u001b[0m",
            "\u001b[0;31mKeyboardInterrupt\u001b[0m                         Traceback (most recent call last)",
            "\u001b[0;32m<ipython-input-4-45450c5ac0bd>\u001b[0m in \u001b[0;36m<cell line: 0>\u001b[0;34m()\u001b[0m\n\u001b[1;32m     73\u001b[0m \u001b[0;34m\u001b[0m\u001b[0m\n\u001b[1;32m     74\u001b[0m         \u001b[0;31m# Perform grid search\u001b[0m\u001b[0;34m\u001b[0m\u001b[0;34m\u001b[0m\u001b[0m\n\u001b[0;32m---> 75\u001b[0;31m         \u001b[0mgrid_search\u001b[0m\u001b[0;34m.\u001b[0m\u001b[0mfit\u001b[0m\u001b[0;34m(\u001b[0m\u001b[0mX_train\u001b[0m\u001b[0;34m,\u001b[0m \u001b[0my_train\u001b[0m\u001b[0;34m)\u001b[0m\u001b[0;34m\u001b[0m\u001b[0;34m\u001b[0m\u001b[0m\n\u001b[0m\u001b[1;32m     76\u001b[0m \u001b[0;34m\u001b[0m\u001b[0m\n\u001b[1;32m     77\u001b[0m         \u001b[0;31m# Save the best model\u001b[0m\u001b[0;34m\u001b[0m\u001b[0;34m\u001b[0m\u001b[0m\n",
            "\u001b[0;32m/usr/local/lib/python3.11/dist-packages/sklearn/base.py\u001b[0m in \u001b[0;36mwrapper\u001b[0;34m(estimator, *args, **kwargs)\u001b[0m\n\u001b[1;32m   1387\u001b[0m                 )\n\u001b[1;32m   1388\u001b[0m             ):\n\u001b[0;32m-> 1389\u001b[0;31m                 \u001b[0;32mreturn\u001b[0m \u001b[0mfit_method\u001b[0m\u001b[0;34m(\u001b[0m\u001b[0mestimator\u001b[0m\u001b[0;34m,\u001b[0m \u001b[0;34m*\u001b[0m\u001b[0margs\u001b[0m\u001b[0;34m,\u001b[0m \u001b[0;34m**\u001b[0m\u001b[0mkwargs\u001b[0m\u001b[0;34m)\u001b[0m\u001b[0;34m\u001b[0m\u001b[0;34m\u001b[0m\u001b[0m\n\u001b[0m\u001b[1;32m   1390\u001b[0m \u001b[0;34m\u001b[0m\u001b[0m\n\u001b[1;32m   1391\u001b[0m         \u001b[0;32mreturn\u001b[0m \u001b[0mwrapper\u001b[0m\u001b[0;34m\u001b[0m\u001b[0;34m\u001b[0m\u001b[0m\n",
            "\u001b[0;32m/usr/local/lib/python3.11/dist-packages/sklearn/model_selection/_search.py\u001b[0m in \u001b[0;36mfit\u001b[0;34m(self, X, y, **params)\u001b[0m\n\u001b[1;32m   1022\u001b[0m                 \u001b[0;32mreturn\u001b[0m \u001b[0mresults\u001b[0m\u001b[0;34m\u001b[0m\u001b[0;34m\u001b[0m\u001b[0m\n\u001b[1;32m   1023\u001b[0m \u001b[0;34m\u001b[0m\u001b[0m\n\u001b[0;32m-> 1024\u001b[0;31m             \u001b[0mself\u001b[0m\u001b[0;34m.\u001b[0m\u001b[0m_run_search\u001b[0m\u001b[0;34m(\u001b[0m\u001b[0mevaluate_candidates\u001b[0m\u001b[0;34m)\u001b[0m\u001b[0;34m\u001b[0m\u001b[0;34m\u001b[0m\u001b[0m\n\u001b[0m\u001b[1;32m   1025\u001b[0m \u001b[0;34m\u001b[0m\u001b[0m\n\u001b[1;32m   1026\u001b[0m             \u001b[0;31m# multimetric is determined here because in the case of a callable\u001b[0m\u001b[0;34m\u001b[0m\u001b[0;34m\u001b[0m\u001b[0m\n",
            "\u001b[0;32m/usr/local/lib/python3.11/dist-packages/sklearn/model_selection/_search.py\u001b[0m in \u001b[0;36m_run_search\u001b[0;34m(self, evaluate_candidates)\u001b[0m\n\u001b[1;32m   1569\u001b[0m     \u001b[0;32mdef\u001b[0m \u001b[0m_run_search\u001b[0m\u001b[0;34m(\u001b[0m\u001b[0mself\u001b[0m\u001b[0;34m,\u001b[0m \u001b[0mevaluate_candidates\u001b[0m\u001b[0;34m)\u001b[0m\u001b[0;34m:\u001b[0m\u001b[0;34m\u001b[0m\u001b[0;34m\u001b[0m\u001b[0m\n\u001b[1;32m   1570\u001b[0m         \u001b[0;34m\"\"\"Search all candidates in param_grid\"\"\"\u001b[0m\u001b[0;34m\u001b[0m\u001b[0;34m\u001b[0m\u001b[0m\n\u001b[0;32m-> 1571\u001b[0;31m         \u001b[0mevaluate_candidates\u001b[0m\u001b[0;34m(\u001b[0m\u001b[0mParameterGrid\u001b[0m\u001b[0;34m(\u001b[0m\u001b[0mself\u001b[0m\u001b[0;34m.\u001b[0m\u001b[0mparam_grid\u001b[0m\u001b[0;34m)\u001b[0m\u001b[0;34m)\u001b[0m\u001b[0;34m\u001b[0m\u001b[0;34m\u001b[0m\u001b[0m\n\u001b[0m\u001b[1;32m   1572\u001b[0m \u001b[0;34m\u001b[0m\u001b[0m\n\u001b[1;32m   1573\u001b[0m \u001b[0;34m\u001b[0m\u001b[0m\n",
            "\u001b[0;32m/usr/local/lib/python3.11/dist-packages/sklearn/model_selection/_search.py\u001b[0m in \u001b[0;36mevaluate_candidates\u001b[0;34m(candidate_params, cv, more_results)\u001b[0m\n\u001b[1;32m    968\u001b[0m                     )\n\u001b[1;32m    969\u001b[0m \u001b[0;34m\u001b[0m\u001b[0m\n\u001b[0;32m--> 970\u001b[0;31m                 out = parallel(\n\u001b[0m\u001b[1;32m    971\u001b[0m                     delayed(_fit_and_score)(\n\u001b[1;32m    972\u001b[0m                         \u001b[0mclone\u001b[0m\u001b[0;34m(\u001b[0m\u001b[0mbase_estimator\u001b[0m\u001b[0;34m)\u001b[0m\u001b[0;34m,\u001b[0m\u001b[0;34m\u001b[0m\u001b[0;34m\u001b[0m\u001b[0m\n",
            "\u001b[0;32m/usr/local/lib/python3.11/dist-packages/sklearn/utils/parallel.py\u001b[0m in \u001b[0;36m__call__\u001b[0;34m(self, iterable)\u001b[0m\n\u001b[1;32m     75\u001b[0m             \u001b[0;32mfor\u001b[0m \u001b[0mdelayed_func\u001b[0m\u001b[0;34m,\u001b[0m \u001b[0margs\u001b[0m\u001b[0;34m,\u001b[0m \u001b[0mkwargs\u001b[0m \u001b[0;32min\u001b[0m \u001b[0miterable\u001b[0m\u001b[0;34m\u001b[0m\u001b[0;34m\u001b[0m\u001b[0m\n\u001b[1;32m     76\u001b[0m         )\n\u001b[0;32m---> 77\u001b[0;31m         \u001b[0;32mreturn\u001b[0m \u001b[0msuper\u001b[0m\u001b[0;34m(\u001b[0m\u001b[0;34m)\u001b[0m\u001b[0;34m.\u001b[0m\u001b[0m__call__\u001b[0m\u001b[0;34m(\u001b[0m\u001b[0miterable_with_config\u001b[0m\u001b[0;34m)\u001b[0m\u001b[0;34m\u001b[0m\u001b[0;34m\u001b[0m\u001b[0m\n\u001b[0m\u001b[1;32m     78\u001b[0m \u001b[0;34m\u001b[0m\u001b[0m\n\u001b[1;32m     79\u001b[0m \u001b[0;34m\u001b[0m\u001b[0m\n",
            "\u001b[0;32m/usr/local/lib/python3.11/dist-packages/joblib/parallel.py\u001b[0m in \u001b[0;36m__call__\u001b[0;34m(self, iterable)\u001b[0m\n\u001b[1;32m   1916\u001b[0m             \u001b[0moutput\u001b[0m \u001b[0;34m=\u001b[0m \u001b[0mself\u001b[0m\u001b[0;34m.\u001b[0m\u001b[0m_get_sequential_output\u001b[0m\u001b[0;34m(\u001b[0m\u001b[0miterable\u001b[0m\u001b[0;34m)\u001b[0m\u001b[0;34m\u001b[0m\u001b[0;34m\u001b[0m\u001b[0m\n\u001b[1;32m   1917\u001b[0m             \u001b[0mnext\u001b[0m\u001b[0;34m(\u001b[0m\u001b[0moutput\u001b[0m\u001b[0;34m)\u001b[0m\u001b[0;34m\u001b[0m\u001b[0;34m\u001b[0m\u001b[0m\n\u001b[0;32m-> 1918\u001b[0;31m             \u001b[0;32mreturn\u001b[0m \u001b[0moutput\u001b[0m \u001b[0;32mif\u001b[0m \u001b[0mself\u001b[0m\u001b[0;34m.\u001b[0m\u001b[0mreturn_generator\u001b[0m \u001b[0;32melse\u001b[0m \u001b[0mlist\u001b[0m\u001b[0;34m(\u001b[0m\u001b[0moutput\u001b[0m\u001b[0;34m)\u001b[0m\u001b[0;34m\u001b[0m\u001b[0;34m\u001b[0m\u001b[0m\n\u001b[0m\u001b[1;32m   1919\u001b[0m \u001b[0;34m\u001b[0m\u001b[0m\n\u001b[1;32m   1920\u001b[0m         \u001b[0;31m# Let's create an ID that uniquely identifies the current call. If the\u001b[0m\u001b[0;34m\u001b[0m\u001b[0;34m\u001b[0m\u001b[0m\n",
            "\u001b[0;32m/usr/local/lib/python3.11/dist-packages/joblib/parallel.py\u001b[0m in \u001b[0;36m_get_sequential_output\u001b[0;34m(self, iterable)\u001b[0m\n\u001b[1;32m   1845\u001b[0m                 \u001b[0mself\u001b[0m\u001b[0;34m.\u001b[0m\u001b[0mn_dispatched_batches\u001b[0m \u001b[0;34m+=\u001b[0m \u001b[0;36m1\u001b[0m\u001b[0;34m\u001b[0m\u001b[0;34m\u001b[0m\u001b[0m\n\u001b[1;32m   1846\u001b[0m                 \u001b[0mself\u001b[0m\u001b[0;34m.\u001b[0m\u001b[0mn_dispatched_tasks\u001b[0m \u001b[0;34m+=\u001b[0m \u001b[0;36m1\u001b[0m\u001b[0;34m\u001b[0m\u001b[0;34m\u001b[0m\u001b[0m\n\u001b[0;32m-> 1847\u001b[0;31m                 \u001b[0mres\u001b[0m \u001b[0;34m=\u001b[0m \u001b[0mfunc\u001b[0m\u001b[0;34m(\u001b[0m\u001b[0;34m*\u001b[0m\u001b[0margs\u001b[0m\u001b[0;34m,\u001b[0m \u001b[0;34m**\u001b[0m\u001b[0mkwargs\u001b[0m\u001b[0;34m)\u001b[0m\u001b[0;34m\u001b[0m\u001b[0;34m\u001b[0m\u001b[0m\n\u001b[0m\u001b[1;32m   1848\u001b[0m                 \u001b[0mself\u001b[0m\u001b[0;34m.\u001b[0m\u001b[0mn_completed_tasks\u001b[0m \u001b[0;34m+=\u001b[0m \u001b[0;36m1\u001b[0m\u001b[0;34m\u001b[0m\u001b[0;34m\u001b[0m\u001b[0m\n\u001b[1;32m   1849\u001b[0m                 \u001b[0mself\u001b[0m\u001b[0;34m.\u001b[0m\u001b[0mprint_progress\u001b[0m\u001b[0;34m(\u001b[0m\u001b[0;34m)\u001b[0m\u001b[0;34m\u001b[0m\u001b[0;34m\u001b[0m\u001b[0m\n",
            "\u001b[0;32m/usr/local/lib/python3.11/dist-packages/sklearn/utils/parallel.py\u001b[0m in \u001b[0;36m__call__\u001b[0;34m(self, *args, **kwargs)\u001b[0m\n\u001b[1;32m    137\u001b[0m             \u001b[0mconfig\u001b[0m \u001b[0;34m=\u001b[0m \u001b[0;34m{\u001b[0m\u001b[0;34m}\u001b[0m\u001b[0;34m\u001b[0m\u001b[0;34m\u001b[0m\u001b[0m\n\u001b[1;32m    138\u001b[0m         \u001b[0;32mwith\u001b[0m \u001b[0mconfig_context\u001b[0m\u001b[0;34m(\u001b[0m\u001b[0;34m**\u001b[0m\u001b[0mconfig\u001b[0m\u001b[0;34m)\u001b[0m\u001b[0;34m:\u001b[0m\u001b[0;34m\u001b[0m\u001b[0;34m\u001b[0m\u001b[0m\n\u001b[0;32m--> 139\u001b[0;31m             \u001b[0;32mreturn\u001b[0m \u001b[0mself\u001b[0m\u001b[0;34m.\u001b[0m\u001b[0mfunction\u001b[0m\u001b[0;34m(\u001b[0m\u001b[0;34m*\u001b[0m\u001b[0margs\u001b[0m\u001b[0;34m,\u001b[0m \u001b[0;34m**\u001b[0m\u001b[0mkwargs\u001b[0m\u001b[0;34m)\u001b[0m\u001b[0;34m\u001b[0m\u001b[0;34m\u001b[0m\u001b[0m\n\u001b[0m\u001b[1;32m    140\u001b[0m \u001b[0;34m\u001b[0m\u001b[0m\n\u001b[1;32m    141\u001b[0m \u001b[0;34m\u001b[0m\u001b[0m\n",
            "\u001b[0;32m/usr/local/lib/python3.11/dist-packages/sklearn/model_selection/_validation.py\u001b[0m in \u001b[0;36m_fit_and_score\u001b[0;34m(estimator, X, y, scorer, train, test, verbose, parameters, fit_params, score_params, return_train_score, return_parameters, return_n_test_samples, return_times, return_estimator, split_progress, candidate_progress, error_score)\u001b[0m\n\u001b[1;32m    864\u001b[0m             \u001b[0mestimator\u001b[0m\u001b[0;34m.\u001b[0m\u001b[0mfit\u001b[0m\u001b[0;34m(\u001b[0m\u001b[0mX_train\u001b[0m\u001b[0;34m,\u001b[0m \u001b[0;34m**\u001b[0m\u001b[0mfit_params\u001b[0m\u001b[0;34m)\u001b[0m\u001b[0;34m\u001b[0m\u001b[0;34m\u001b[0m\u001b[0m\n\u001b[1;32m    865\u001b[0m         \u001b[0;32melse\u001b[0m\u001b[0;34m:\u001b[0m\u001b[0;34m\u001b[0m\u001b[0;34m\u001b[0m\u001b[0m\n\u001b[0;32m--> 866\u001b[0;31m             \u001b[0mestimator\u001b[0m\u001b[0;34m.\u001b[0m\u001b[0mfit\u001b[0m\u001b[0;34m(\u001b[0m\u001b[0mX_train\u001b[0m\u001b[0;34m,\u001b[0m \u001b[0my_train\u001b[0m\u001b[0;34m,\u001b[0m \u001b[0;34m**\u001b[0m\u001b[0mfit_params\u001b[0m\u001b[0;34m)\u001b[0m\u001b[0;34m\u001b[0m\u001b[0;34m\u001b[0m\u001b[0m\n\u001b[0m\u001b[1;32m    867\u001b[0m \u001b[0;34m\u001b[0m\u001b[0m\n\u001b[1;32m    868\u001b[0m     \u001b[0;32mexcept\u001b[0m \u001b[0mException\u001b[0m\u001b[0;34m:\u001b[0m\u001b[0;34m\u001b[0m\u001b[0;34m\u001b[0m\u001b[0m\n",
            "\u001b[0;32m/usr/local/lib/python3.11/dist-packages/sklearn/base.py\u001b[0m in \u001b[0;36mwrapper\u001b[0;34m(estimator, *args, **kwargs)\u001b[0m\n\u001b[1;32m   1387\u001b[0m                 )\n\u001b[1;32m   1388\u001b[0m             ):\n\u001b[0;32m-> 1389\u001b[0;31m                 \u001b[0;32mreturn\u001b[0m \u001b[0mfit_method\u001b[0m\u001b[0;34m(\u001b[0m\u001b[0mestimator\u001b[0m\u001b[0;34m,\u001b[0m \u001b[0;34m*\u001b[0m\u001b[0margs\u001b[0m\u001b[0;34m,\u001b[0m \u001b[0;34m**\u001b[0m\u001b[0mkwargs\u001b[0m\u001b[0;34m)\u001b[0m\u001b[0;34m\u001b[0m\u001b[0;34m\u001b[0m\u001b[0m\n\u001b[0m\u001b[1;32m   1390\u001b[0m \u001b[0;34m\u001b[0m\u001b[0m\n\u001b[1;32m   1391\u001b[0m         \u001b[0;32mreturn\u001b[0m \u001b[0mwrapper\u001b[0m\u001b[0;34m\u001b[0m\u001b[0;34m\u001b[0m\u001b[0m\n",
            "\u001b[0;32m/usr/local/lib/python3.11/dist-packages/sklearn/pipeline.py\u001b[0m in \u001b[0;36mfit\u001b[0;34m(self, X, y, **params)\u001b[0m\n\u001b[1;32m    652\u001b[0m \u001b[0;34m\u001b[0m\u001b[0m\n\u001b[1;32m    653\u001b[0m         \u001b[0mrouted_params\u001b[0m \u001b[0;34m=\u001b[0m \u001b[0mself\u001b[0m\u001b[0;34m.\u001b[0m\u001b[0m_check_method_params\u001b[0m\u001b[0;34m(\u001b[0m\u001b[0mmethod\u001b[0m\u001b[0;34m=\u001b[0m\u001b[0;34m\"fit\"\u001b[0m\u001b[0;34m,\u001b[0m \u001b[0mprops\u001b[0m\u001b[0;34m=\u001b[0m\u001b[0mparams\u001b[0m\u001b[0;34m)\u001b[0m\u001b[0;34m\u001b[0m\u001b[0;34m\u001b[0m\u001b[0m\n\u001b[0;32m--> 654\u001b[0;31m         \u001b[0mXt\u001b[0m \u001b[0;34m=\u001b[0m \u001b[0mself\u001b[0m\u001b[0;34m.\u001b[0m\u001b[0m_fit\u001b[0m\u001b[0;34m(\u001b[0m\u001b[0mX\u001b[0m\u001b[0;34m,\u001b[0m \u001b[0my\u001b[0m\u001b[0;34m,\u001b[0m \u001b[0mrouted_params\u001b[0m\u001b[0;34m,\u001b[0m \u001b[0mraw_params\u001b[0m\u001b[0;34m=\u001b[0m\u001b[0mparams\u001b[0m\u001b[0;34m)\u001b[0m\u001b[0;34m\u001b[0m\u001b[0;34m\u001b[0m\u001b[0m\n\u001b[0m\u001b[1;32m    655\u001b[0m         \u001b[0;32mwith\u001b[0m \u001b[0m_print_elapsed_time\u001b[0m\u001b[0;34m(\u001b[0m\u001b[0;34m\"Pipeline\"\u001b[0m\u001b[0;34m,\u001b[0m \u001b[0mself\u001b[0m\u001b[0;34m.\u001b[0m\u001b[0m_log_message\u001b[0m\u001b[0;34m(\u001b[0m\u001b[0mlen\u001b[0m\u001b[0;34m(\u001b[0m\u001b[0mself\u001b[0m\u001b[0;34m.\u001b[0m\u001b[0msteps\u001b[0m\u001b[0;34m)\u001b[0m \u001b[0;34m-\u001b[0m \u001b[0;36m1\u001b[0m\u001b[0;34m)\u001b[0m\u001b[0;34m)\u001b[0m\u001b[0;34m:\u001b[0m\u001b[0;34m\u001b[0m\u001b[0;34m\u001b[0m\u001b[0m\n\u001b[1;32m    656\u001b[0m             \u001b[0;32mif\u001b[0m \u001b[0mself\u001b[0m\u001b[0;34m.\u001b[0m\u001b[0m_final_estimator\u001b[0m \u001b[0;34m!=\u001b[0m \u001b[0;34m\"passthrough\"\u001b[0m\u001b[0;34m:\u001b[0m\u001b[0;34m\u001b[0m\u001b[0;34m\u001b[0m\u001b[0m\n",
            "\u001b[0;32m/usr/local/lib/python3.11/dist-packages/sklearn/pipeline.py\u001b[0m in \u001b[0;36m_fit\u001b[0;34m(self, X, y, routed_params, raw_params)\u001b[0m\n\u001b[1;32m    586\u001b[0m             )\n\u001b[1;32m    587\u001b[0m \u001b[0;34m\u001b[0m\u001b[0m\n\u001b[0;32m--> 588\u001b[0;31m             X, fitted_transformer = fit_transform_one_cached(\n\u001b[0m\u001b[1;32m    589\u001b[0m                 \u001b[0mcloned_transformer\u001b[0m\u001b[0;34m,\u001b[0m\u001b[0;34m\u001b[0m\u001b[0;34m\u001b[0m\u001b[0m\n\u001b[1;32m    590\u001b[0m                 \u001b[0mX\u001b[0m\u001b[0;34m,\u001b[0m\u001b[0;34m\u001b[0m\u001b[0;34m\u001b[0m\u001b[0m\n",
            "\u001b[0;32m/usr/local/lib/python3.11/dist-packages/joblib/memory.py\u001b[0m in \u001b[0;36m__call__\u001b[0;34m(self, *args, **kwargs)\u001b[0m\n\u001b[1;32m    310\u001b[0m \u001b[0;34m\u001b[0m\u001b[0m\n\u001b[1;32m    311\u001b[0m     \u001b[0;32mdef\u001b[0m \u001b[0m__call__\u001b[0m\u001b[0;34m(\u001b[0m\u001b[0mself\u001b[0m\u001b[0;34m,\u001b[0m \u001b[0;34m*\u001b[0m\u001b[0margs\u001b[0m\u001b[0;34m,\u001b[0m \u001b[0;34m**\u001b[0m\u001b[0mkwargs\u001b[0m\u001b[0;34m)\u001b[0m\u001b[0;34m:\u001b[0m\u001b[0;34m\u001b[0m\u001b[0;34m\u001b[0m\u001b[0m\n\u001b[0;32m--> 312\u001b[0;31m         \u001b[0;32mreturn\u001b[0m \u001b[0mself\u001b[0m\u001b[0;34m.\u001b[0m\u001b[0mfunc\u001b[0m\u001b[0;34m(\u001b[0m\u001b[0;34m*\u001b[0m\u001b[0margs\u001b[0m\u001b[0;34m,\u001b[0m \u001b[0;34m**\u001b[0m\u001b[0mkwargs\u001b[0m\u001b[0;34m)\u001b[0m\u001b[0;34m\u001b[0m\u001b[0;34m\u001b[0m\u001b[0m\n\u001b[0m\u001b[1;32m    313\u001b[0m \u001b[0;34m\u001b[0m\u001b[0m\n\u001b[1;32m    314\u001b[0m     \u001b[0;32mdef\u001b[0m \u001b[0mcall_and_shelve\u001b[0m\u001b[0;34m(\u001b[0m\u001b[0mself\u001b[0m\u001b[0;34m,\u001b[0m \u001b[0;34m*\u001b[0m\u001b[0margs\u001b[0m\u001b[0;34m,\u001b[0m \u001b[0;34m**\u001b[0m\u001b[0mkwargs\u001b[0m\u001b[0;34m)\u001b[0m\u001b[0;34m:\u001b[0m\u001b[0;34m\u001b[0m\u001b[0;34m\u001b[0m\u001b[0m\n",
            "\u001b[0;32m/usr/local/lib/python3.11/dist-packages/sklearn/pipeline.py\u001b[0m in \u001b[0;36m_fit_transform_one\u001b[0;34m(transformer, X, y, weight, message_clsname, message, params)\u001b[0m\n\u001b[1;32m   1549\u001b[0m     \u001b[0;32mwith\u001b[0m \u001b[0m_print_elapsed_time\u001b[0m\u001b[0;34m(\u001b[0m\u001b[0mmessage_clsname\u001b[0m\u001b[0;34m,\u001b[0m \u001b[0mmessage\u001b[0m\u001b[0;34m)\u001b[0m\u001b[0;34m:\u001b[0m\u001b[0;34m\u001b[0m\u001b[0;34m\u001b[0m\u001b[0m\n\u001b[1;32m   1550\u001b[0m         \u001b[0;32mif\u001b[0m \u001b[0mhasattr\u001b[0m\u001b[0;34m(\u001b[0m\u001b[0mtransformer\u001b[0m\u001b[0;34m,\u001b[0m \u001b[0;34m\"fit_transform\"\u001b[0m\u001b[0;34m)\u001b[0m\u001b[0;34m:\u001b[0m\u001b[0;34m\u001b[0m\u001b[0;34m\u001b[0m\u001b[0m\n\u001b[0;32m-> 1551\u001b[0;31m             \u001b[0mres\u001b[0m \u001b[0;34m=\u001b[0m \u001b[0mtransformer\u001b[0m\u001b[0;34m.\u001b[0m\u001b[0mfit_transform\u001b[0m\u001b[0;34m(\u001b[0m\u001b[0mX\u001b[0m\u001b[0;34m,\u001b[0m \u001b[0my\u001b[0m\u001b[0;34m,\u001b[0m \u001b[0;34m**\u001b[0m\u001b[0mparams\u001b[0m\u001b[0;34m.\u001b[0m\u001b[0mget\u001b[0m\u001b[0;34m(\u001b[0m\u001b[0;34m\"fit_transform\"\u001b[0m\u001b[0;34m,\u001b[0m \u001b[0;34m{\u001b[0m\u001b[0;34m}\u001b[0m\u001b[0;34m)\u001b[0m\u001b[0;34m)\u001b[0m\u001b[0;34m\u001b[0m\u001b[0;34m\u001b[0m\u001b[0m\n\u001b[0m\u001b[1;32m   1552\u001b[0m         \u001b[0;32melse\u001b[0m\u001b[0;34m:\u001b[0m\u001b[0;34m\u001b[0m\u001b[0;34m\u001b[0m\u001b[0m\n\u001b[1;32m   1553\u001b[0m             res = transformer.fit(X, y, **params.get(\"fit\", {})).transform(\n",
            "\u001b[0;32m/usr/local/lib/python3.11/dist-packages/sklearn/base.py\u001b[0m in \u001b[0;36mwrapper\u001b[0;34m(estimator, *args, **kwargs)\u001b[0m\n\u001b[1;32m   1387\u001b[0m                 )\n\u001b[1;32m   1388\u001b[0m             ):\n\u001b[0;32m-> 1389\u001b[0;31m                 \u001b[0;32mreturn\u001b[0m \u001b[0mfit_method\u001b[0m\u001b[0;34m(\u001b[0m\u001b[0mestimator\u001b[0m\u001b[0;34m,\u001b[0m \u001b[0;34m*\u001b[0m\u001b[0margs\u001b[0m\u001b[0;34m,\u001b[0m \u001b[0;34m**\u001b[0m\u001b[0mkwargs\u001b[0m\u001b[0;34m)\u001b[0m\u001b[0;34m\u001b[0m\u001b[0;34m\u001b[0m\u001b[0m\n\u001b[0m\u001b[1;32m   1390\u001b[0m \u001b[0;34m\u001b[0m\u001b[0m\n\u001b[1;32m   1391\u001b[0m         \u001b[0;32mreturn\u001b[0m \u001b[0mwrapper\u001b[0m\u001b[0;34m\u001b[0m\u001b[0;34m\u001b[0m\u001b[0m\n",
            "\u001b[0;31mKeyboardInterrupt\u001b[0m: "
          ]
        }
      ],
      "source": [
        "from sklearn.feature_extraction.text import CountVectorizer, TfidfVectorizer, HashingVectorizer\n",
        "from sklearn.svm import SVC\n",
        "from sklearn.naive_bayes import MultinomialNB\n",
        "from sklearn.linear_model import LogisticRegression\n",
        "from sklearn.model_selection import train_test_split, GridSearchCV\n",
        "from sklearn.metrics import classification_report, confusion_matrix\n",
        "from sklearn.tree import DecisionTreeClassifier\n",
        "from sklearn.ensemble import RandomForestClassifier, GradientBoostingClassifier, AdaBoostClassifier\n",
        "from sklearn.neighbors import KNeighborsClassifier\n",
        "from sklearn.neural_network import MLPClassifier\n",
        "from sklearn.naive_bayes import GaussianNB, BernoulliNB\n",
        "from gensim.models import KeyedVectors\n",
        "from sklearn.base import BaseEstimator, TransformerMixin\n",
        "import numpy as np\n",
        "from joblib import dump\n",
        "from sklearn.pipeline import Pipeline\n",
        "from sklearn.metrics import classification_report, confusion_matrix\n",
        "\n",
        "import os\n",
        "\n",
        "# Create directory for saving models\n",
        "os.makedirs(\"./grid_search_models\", exist_ok=True)\n",
        "\n",
        "\n",
        "# Fill missing values with empty strings\n",
        "train_data['Preprocessed_Review'] = train_data['Preprocessed_Review'].fillna('')\n",
        "\n",
        "# Split the data into features (X) and target (y)\n",
        "X = train_data['Preprocessed_Review']\n",
        "y = train_data['Score']\n",
        "\n",
        "# Split the data into train and test sets\n",
        "X_train, X_test, y_train, y_test = train_test_split(X, y, test_size=0.2, random_state=42)\n",
        "\n",
        "# Define a list of classifiers with their associated parameters\n",
        "classifiers = [\n",
        "    {\n",
        "        'classifier': [MultinomialNB()],\n",
        "        'classifier__alpha': [0.1, 0.5, 1.0],  # Smoothing parameter for MultinomialNB\n",
        "    },\n",
        "\n",
        "    {\n",
        "        'classifier': [LogisticRegression(max_iter=1000)],\n",
        "        'classifier__C': [0.01, 0.1, 1.0, 10.0],  # Regularization parameter for LogisticRegression\n",
        "        'classifier__penalty': ['l1', 'l2'],  # Penalty term for LogisticRegression\n",
        "    },\n",
        "    {\n",
        "        'classifier': [GradientBoostingClassifier()],\n",
        "        'classifier__n_estimators': [50, 100, 200],  # The number of boosting stages to perform\n",
        "        'classifier__max_depth': [3, 5, 7],  # Maximum depth of the individual trees\n",
        "    },\n",
        "\n",
        "]\n",
        "max_df_values = [0.2, 0.5, 1.0]\n",
        "vectorizers = []\n",
        "for max_df in max_df_values:\n",
        "    vectorizers.extend([\n",
        "        (CountVectorizer(ngram_range=(1, 1), max_df=max_df), f\"CountVectorizer_Unigram_max_df_{max_df}\"),\n",
        "        (CountVectorizer(ngram_range=(1, 2), max_df=max_df), f\"CountVectorizer_Bigram_max_df_{max_df}\"),\n",
        "        (CountVectorizer(ngram_range=(1, 3), max_df=max_df), f\"CountVectorizer_Trigram_max_df_{max_df}\"),\n",
        "        (TfidfVectorizer(ngram_range=(1, 1), max_df=max_df), f\"TfidfVectorizer_Unigram_max_df_{max_df}\"),\n",
        "        (TfidfVectorizer(ngram_range=(1, 2), max_df=max_df), f\"TfidfVectorizer_Bigram_max_df_{max_df}\"),\n",
        "        (TfidfVectorizer(ngram_range=(1, 3), max_df=max_df), f\"TfidfVectorizer_Trigram_max_df_{max_df}\"),\n",
        "    ])\n",
        "\n",
        "# Create an empty list to store the results\n",
        "results = []\n",
        "\n",
        "# Perform grid search for each combination of classifier and vectorizer\n",
        "for classifier_config in classifiers:\n",
        "    for vectorizer, vectorizer_name in vectorizers:\n",
        "        print(\"Classifier:\", type(classifier_config['classifier'][0]).__name__)\n",
        "        print(\"vectorizer\", vectorizer_name)\n",
        "        # Create a pipeline with the current vectorizer and classifier\n",
        "        pipeline = Pipeline([\n",
        "            ('vectorizer', vectorizer),\n",
        "            ('classifier', classifier_config['classifier']),\n",
        "        ])\n",
        "\n",
        "        # Create GridSearchCV object\n",
        "        grid_search = GridSearchCV(pipeline, classifier_config, cv=2, scoring='accuracy', verbose=3)\n",
        "\n",
        "        # Perform grid search\n",
        "        grid_search.fit(X_train, y_train)\n",
        "\n",
        "        # Save the best model\n",
        "        best_model = grid_search.best_estimator_\n",
        "        model_filename = f\"./grid_search_models/{vectorizer_name}_{type(classifier_config['classifier'][0]).__name__}_best_model.joblib\"\n",
        "        dump(best_model, model_filename)\n",
        "\n",
        "        # Get best parameters and best score\n",
        "        best_params = grid_search.best_params_\n",
        "        best_score = grid_search.best_score_\n",
        "        test_score = grid_search.score(X_test, y_test)\n",
        "\n",
        "        # Store the results\n",
        "        result = {\n",
        "            'vectorizer': vectorizer_name,\n",
        "            'classifier': type(classifier_config['classifier'][0]).__name__,\n",
        "            'best_params': best_params,\n",
        "            'best_score': best_score,\n",
        "            'test_score': test_score,\n",
        "        }\n",
        "        results.append(result)\n",
        "\n",
        "\n",
        "# Print the results\n",
        "for result in results:\n",
        "    print(\"===================================================\")\n",
        "    print(f\"Vectorizer: {result['vectorizer']}, Classifier: {result['classifier']}\")\n",
        "    print(\"Best parameters:\", result['best_params'])\n",
        "    print(\"Best cross-validation score:\", result['best_score'])\n",
        "    print(\"Test set accuracy:\", result['test_score'])\n",
        "    print()\n",
        "\n",
        "    # Print classification report and confusion matrix\n",
        "    print(\"Classification Report:\")\n",
        "    y_pred = result['best_model'].predict(X_test)\n",
        "    print(classification_report(y_test, y_pred))\n",
        "\n",
        "    print(\"Confusion Matrix:\")\n",
        "    print(confusion_matrix(y_test, y_pred))\n",
        "    print(\"===================================================\")\n"
      ]
    }
  ],
  "metadata": {
    "colab": {
      "gpuType": "T4",
      "provenance": []
    },
    "kernelspec": {
      "display_name": "Python 3",
      "name": "python3"
    },
    "language_info": {
      "name": "python"
    }
  },
  "nbformat": 4,
  "nbformat_minor": 0
}
